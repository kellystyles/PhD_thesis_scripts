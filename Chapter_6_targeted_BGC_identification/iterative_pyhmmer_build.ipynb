{
 "cells": [
  {
   "attachments": {},
   "cell_type": "markdown",
   "metadata": {},
   "source": [
    "# Iterative model building\n",
    "\n",
    "This Notebook contains functions to perform iterative model building of pHMMs from an input protein query against a target dataset.\n",
    "The queries in this Notebook are for the 4 \"*core*\" indole diterpene proteins from the *Penicillium paxilli* paxilline BGC. \n",
    "These are obtained from the curated SWISSPROT database, against which these queries are searched."
   ]
  },
  {
   "cell_type": "code",
   "execution_count": 1,
   "metadata": {},
   "outputs": [
    {
     "ename": "ModuleNotFoundError",
     "evalue": "No module named 'pyhmmer'",
     "output_type": "error",
     "traceback": [
      "\u001b[1;31m---------------------------------------------------------------------------\u001b[0m",
      "\u001b[1;31mModuleNotFoundError\u001b[0m                       Traceback (most recent call last)",
      "Cell \u001b[1;32mIn[1], line 4\u001b[0m\n\u001b[0;32m      2\u001b[0m \u001b[39mimport\u001b[39;00m \u001b[39murllib\u001b[39;00m\u001b[39m.\u001b[39;00m\u001b[39mrequest\u001b[39;00m\n\u001b[0;32m      3\u001b[0m \u001b[39mimport\u001b[39;00m \u001b[39mre\u001b[39;00m\n\u001b[1;32m----> 4\u001b[0m \u001b[39mimport\u001b[39;00m \u001b[39mpyhmmer\u001b[39;00m\n\u001b[0;32m      5\u001b[0m \u001b[39mimport\u001b[39;00m \u001b[39mmatplotlib\u001b[39;00m\u001b[39m.\u001b[39;00m\u001b[39mpyplot\u001b[39;00m \u001b[39mas\u001b[39;00m \u001b[39mplt\u001b[39;00m\n\u001b[0;32m      6\u001b[0m \u001b[39mfrom\u001b[39;00m \u001b[39mmath\u001b[39;00m \u001b[39mimport\u001b[39;00m ceil\n",
      "\u001b[1;31mModuleNotFoundError\u001b[0m: No module named 'pyhmmer'"
     ]
    }
   ],
   "source": [
    "import gzip\n",
    "import urllib.request\n",
    "import re\n",
    "import pyhmmer\n",
    "import matplotlib.pyplot as plt\n",
    "from math import ceil\n",
    "from math import floor"
   ]
  },
  {
   "cell_type": "code",
   "execution_count": 2,
   "metadata": {},
   "outputs": [],
   "source": [
    "def build_seqreader(multifasta):\n",
    "    \"\"\"\n",
    "    Opens multiFASTA using pyHMMER and converts it to binary\n",
    "    'loaded' format.\n",
    "    \"\"\"\n",
    "    if multifasta.endswith(\".gz\"):\n",
    "        reader = gzip.open(multifasta, \"rb\")\n",
    "    else:\n",
    "        reader = open(multifasta, \"r\")\n",
    "        \n",
    "    with pyhmmer.easel.SequenceFile(reader, digital=True, alphabet=alphabet) as seq_file:\n",
    "        dataset = seq_file.read_block()\n",
    "    \n",
    "    return dataset\n",
    "\n",
    "def map_taxonomy(dataset):\n",
    "    \"\"\"\n",
    "    Parse the taxonomy from a loaded pyHMMER dataset.\n",
    "    \"\"\"\n",
    "\n",
    "    taxonomy_by_name = {}\n",
    "    organism_by_name = {}\n",
    "    description_by_name = {}\n",
    "\n",
    "    for seq in dataset:\n",
    "        match = re.search(b\"(.*) OS=(.*) OX=(\\d+)\", seq.description)\n",
    "        taxonomy_by_name[seq.name] = int(match.group(3))\n",
    "        organism_by_name[seq.name] = match.group(2)\n",
    "        description_by_name[seq.name] = match.group(1)\n",
    "\n",
    "def model_building(dataset, query):\n",
    "    \"\"\"\n",
    "    Completes the pyHMMER hmmsearch pipeline on a loaded dataset.\n",
    "    \"\"\"\n",
    "    alphabet = pyhmmer.easel.Alphabet.amino()\n",
    "    pli = pyhmmer.plan7.Pipeline(alphabet)\n",
    "    hits = pli.search_seq(query, dataset)\n",
    "    \n",
    "    plt.legend(frameon=False)\n",
    "    plt.plot([hit.score for hit in hits], \"o-\")\n",
    "    plt.xlabel(\"Hit rank\")\n",
    "    plt.ylabel(\"Score (bits)\")\n",
    "    plt.savefig(\"uniprot.svg\", format=\"svg\")\n",
    "    plt.show()\n",
    "    \n",
    "def iterative_model_building(dataset, query, bitscore_cutoff):\n",
    "    \"\"\"\n",
    "    Performs iterative hmmsearch against loaded dataset using a\n",
    "    specific trusted bitscore cutoff.    \n",
    "    \"\"\"\n",
    "    alphabet = pyhmmer.easel.Alphabet.amino()\n",
    "\n",
    "    pli = pyhmmer.plan7.Pipeline(alphabet, incT=int(bitscore_cutoff), incdomT=int(bitscore_cutoff))\n",
    "    search = pli.iterate_seq(query, dataset)\n",
    "    \n",
    "    iterations = []\n",
    "    while not search.converged:\n",
    "        iteration = next(search)\n",
    "        iterations.append(iteration)\n",
    "        print(f\"Iteration={iteration.iteration} Hits={len(iteration.hits):2} Included={iteration.hits[0].name} Converged={search.converged}\")\n",
    "\n",
    "    return iterations\n",
    "\n",
    "def plot_iterations(iterations, out_filename):\n",
    "   \"\"\"\n",
    "   Prepares lineplots of iteration hit trusted bitscores.\n",
    "   \"\"\"\n",
    "    for iteration in iterations:\n",
    "        plt.plot([hit.score for hit in iteration.hits], \"o-\", label=f\"Iteration {iteration.iteration}\")\n",
    "\n",
    "    plt.legend(frameon=False)\n",
    "    plt.xlabel(\"Hit rank\")\n",
    "    plt.ylabel(\"Score (bits)\")\n",
    "    plt.savefig(out_filename, format=\"svg\")\n",
    "    plt.show()\n",
    "\n",
    "def print_iteration_diffs(iterations):\n",
    "    \"\"\" \n",
    "    Describes the hits included in a pHMM model following iteratvie search if it\n",
    "    is above the trusted bitscore.\n",
    "    \"\"\"\n",
    "    for hit in iterations[-1].hits:\n",
    "        if hit.included:\n",
    "            print(f\"{hit.name.decode():<20}\\t{hit.score:5.1f}\\t{description_by_name[hit.name].decode():34}\\t{organism_by_name[hit.name][:60].decode()}\")\n",
    "            \n",
    "def save_hmm(hmm, name):\n",
    "    \"\"\" \n",
    "    Save pHMM to a H3MM file.\n",
    "    \"\"\"\n",
    "    byte_obj = name.encode('ascii')\n",
    "    hmm.name = byte_obj\n",
    "    hmm.description = None\n",
    "    hmm.accession = None\n",
    "    with open(f\"{name}.hmm\", \"wb\") as dst_file:\n",
    "        hmm.write(dst_file)\n",
    "\n",
    "def get_cutoffs(iterations):\n",
    "    \"\"\" \n",
    "    Calculate all bitscore cutoffs for a pyhhmmer iterative search.\n",
    "    \"\"\"\n",
    "\n",
    "    hmm = iterations[-1].hmm\n",
    "    # noise\n",
    "    noise_score = max(hit.score for hit in iterations[-1].hits if not hit.included)\n",
    "    noise_domscore = max(hit.best_domain.score for hit in iterations[-1].hits if not hit.included)\n",
    "    hmm.cutoffs.noise = ceil(noise_score), ceil(noise_domscore)\n",
    "    print(f\"Noise: {hmm.cutoffs.noise}\")\n",
    "    # gathering\n",
    "    gathering_score = min(hit.score for hit in iterations[-1].hits if hit.included)\n",
    "    gathering_domscore = min(hit.best_domain.score for hit in iterations[-1].hits if hit.included)\n",
    "    hmm.cutoffs.gathering = floor(gathering_score), floor(gathering_domscore)\n",
    "    print(f\"Gathering: {hmm.cutoffs.gathering}\")\n",
    "    # trusted\n",
    "    i = max(i for i, hit in enumerate(iterations[-1].hits) if hit.score > 350)\n",
    "    hmm.cutoffs.trusted = floor(iterations[-1].hits[i].score), floor(iterations[-1].hits[i].best_domain.score)\n",
    "    print(f\"Trusted: {hmm.cutoffs.trusted}\")\n",
    "    \n",
    "def main(query, data, min_bitscore, output):\n",
    "\n",
    "    # load SwissProt database\n",
    "    dataset = build_seqreader(\"uniprot_sprot.fasta.gz\")\n",
    "    map_taxonomy(dataset)\n",
    "    \n",
    "    # perform iterative query search\n",
    "    model_building(dataset, query)    \n",
    "    iterations = iterative_model_building(dataset, query, min_bitscore)\n",
    "    plot_iterations(iterations, \"SwissProt_iterations.svg\")\n",
    "    print_iteration_diffs(iterations)\n",
    "    get_cutoffs(iterations)\n",
    "    hmm = iterations[-1].hmm\n",
    "    save_hmm(hmm, output)"
   ]
  },
  {
   "attachments": {},
   "cell_type": "markdown",
   "metadata": {},
   "source": [
    "Download the Swissprot database and open it with pyhmmer:"
   ]
  },
  {
   "cell_type": "code",
   "execution_count": 3,
   "metadata": {},
   "outputs": [
    {
     "ename": "NameError",
     "evalue": "name 'pyhmmer' is not defined",
     "output_type": "error",
     "traceback": [
      "\u001b[1;31m---------------------------------------------------------------------------\u001b[0m",
      "\u001b[1;31mNameError\u001b[0m                                 Traceback (most recent call last)",
      "Cell \u001b[1;32mIn[3], line 1\u001b[0m\n\u001b[1;32m----> 1\u001b[0m alphabet \u001b[39m=\u001b[39m pyhmmer\u001b[39m.\u001b[39measel\u001b[39m.\u001b[39mAlphabet\u001b[39m.\u001b[39mamino()\n\u001b[0;32m      3\u001b[0m url \u001b[39m=\u001b[39m \u001b[39m\"\u001b[39m\u001b[39mhttp://ftp.ebi.ac.uk/pub/databases/uniprot/knowledgebase/uniprot_sprot.fasta.gz\u001b[39m\u001b[39m\"\u001b[39m\n\u001b[0;32m      4\u001b[0m \u001b[39mwith\u001b[39;00m urllib\u001b[39m.\u001b[39mrequest\u001b[39m.\u001b[39murlopen(url) \u001b[39mas\u001b[39;00m response:\n",
      "\u001b[1;31mNameError\u001b[0m: name 'pyhmmer' is not defined"
     ]
    }
   ],
   "source": [
    "alphabet = pyhmmer.easel.Alphabet.amino()\n",
    "\n",
    "url = \"http://ftp.ebi.ac.uk/pub/databases/uniprot/knowledgebase/uniprot_sprot.fasta.gz\"\n",
    "with urllib.request.urlopen(url) as response:\n",
    "    reader = gzip.open(response, \"rb\")\n",
    "    with pyhmmer.easel.SequenceFile(reader, digital=True, alphabet=alphabet) as seq_file:\n",
    "        swissprot = seq_file.read_block()"
   ]
  },
  {
   "attachments": {},
   "cell_type": "markdown",
   "metadata": {},
   "source": [
    "Build iterative models of each \"core\" IDT protein with the trusted cutoff \n",
    "bitscores used."
   ]
  },
  {
   "cell_type": "code",
   "execution_count": 4,
   "metadata": {},
   "outputs": [
    {
     "ename": "NameError",
     "evalue": "name 'dataset' is not defined",
     "output_type": "error",
     "traceback": [
      "\u001b[1;31m---------------------------------------------------------------------------\u001b[0m",
      "\u001b[1;31mNameError\u001b[0m                                 Traceback (most recent call last)",
      "Cell \u001b[1;32mIn[4], line 1\u001b[0m\n\u001b[1;32m----> 1\u001b[0m paxb \u001b[39m=\u001b[39m \u001b[39mnext\u001b[39m(x \u001b[39mfor\u001b[39;00m x \u001b[39min\u001b[39;00m dataset \u001b[39mif\u001b[39;00m \u001b[39mb\u001b[39m\u001b[39m'\u001b[39m\u001b[39mE3UBL6\u001b[39m\u001b[39m'\u001b[39m \u001b[39min\u001b[39;00m x\u001b[39m.\u001b[39mname)\n\u001b[0;32m      2\u001b[0m paxc \u001b[39m=\u001b[39m \u001b[39mnext\u001b[39m(x \u001b[39mfor\u001b[39;00m x \u001b[39min\u001b[39;00m dataset \u001b[39mif\u001b[39;00m \u001b[39mb\u001b[39m\u001b[39m'\u001b[39m\u001b[39mQ9C448\u001b[39m\u001b[39m'\u001b[39m \u001b[39min\u001b[39;00m x\u001b[39m.\u001b[39mname)\n\u001b[0;32m      3\u001b[0m paxg \u001b[39m=\u001b[39m \u001b[39mnext\u001b[39m(x \u001b[39mfor\u001b[39;00m x \u001b[39min\u001b[39;00m dataset \u001b[39mif\u001b[39;00m \u001b[39mb\u001b[39m\u001b[39m'\u001b[39m\u001b[39mQ9C446\u001b[39m\u001b[39m'\u001b[39m \u001b[39min\u001b[39;00m x\u001b[39m.\u001b[39mname)\n",
      "\u001b[1;31mNameError\u001b[0m: name 'dataset' is not defined"
     ]
    }
   ],
   "source": [
    "paxb = next(x for x in swissprot if b'E3UBL6' in x.name)\n",
    "paxc = next(x for x in swissprot if b'Q9C448' in x.name)\n",
    "paxg = next(x for x in swissprot if b'Q9C446' in x.name)\n",
    "paxm = next(x for x in swissprot if b'Q9C447' in x.name)\n",
    "main(paxb, swissprot, 400, \"PAXB_swissprot.phmm\")\n",
    "main(paxc, swissprot, 350, \"PAXB_swissprot.phmm\")\n",
    "main(paxg, swissprot, 460, \"PAXB_swissprot.phmm\")\n",
    "main(paxm, swissprot, 500, \"PAXB_swissprot.phmm\")"
   ]
  }
 ],
 "metadata": {
  "kernelspec": {
   "display_name": "cluster",
   "language": "python",
   "name": "python3"
  },
  "language_info": {
   "codemirror_mode": {
    "name": "ipython",
    "version": 3
   },
   "file_extension": ".py",
   "mimetype": "text/x-python",
   "name": "python",
   "nbconvert_exporter": "python",
   "pygments_lexer": "ipython3",
   "version": "3.9.16"
  },
  "orig_nbformat": 4
 },
 "nbformat": 4,
 "nbformat_minor": 2
}
