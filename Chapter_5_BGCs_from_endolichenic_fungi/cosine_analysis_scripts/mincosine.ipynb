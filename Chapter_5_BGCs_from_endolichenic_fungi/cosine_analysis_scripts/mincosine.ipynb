{
 "cells": [
  {
   "attachments": {},
   "cell_type": "markdown",
   "id": "5af2b22e",
   "metadata": {},
   "source": [
    "Write the filenames of all the output CSVs to a list file."
   ]
  },
  {
   "cell_type": "code",
   "execution_count": null,
   "id": "3b12c6cd",
   "metadata": {},
   "outputs": [],
   "source": [
    "!ls -A1 *-mincosine.csv  > csv.list"
   ]
  },
  {
   "cell_type": "code",
   "execution_count": 2,
   "id": "6be3f2b8",
   "metadata": {},
   "outputs": [],
   "source": [
    "import pandas as pd"
   ]
  },
  {
   "attachments": {},
   "cell_type": "markdown",
   "id": "ec6f9760",
   "metadata": {},
   "source": [
    "Open file metadata."
   ]
  },
  {
   "cell_type": "code",
   "execution_count": 3,
   "id": "a430c4a3",
   "metadata": {},
   "outputs": [
    {
     "data": {
      "text/plain": [
       "123"
      ]
     },
     "execution_count": 3,
     "metadata": {},
     "output_type": "execute_result"
    }
   ],
   "source": [
    "my_file = open(\"csv.list\", \"r\")\n",
    "# reading the file\n",
    "data = my_file.read()\n",
    "# replacing end of line('/n') with ' ' and\n",
    "# splitting the text it further when '.' is seen.\n",
    "file_list = data.split(\"\\n\")\n",
    "my_file.close()\n",
    "file_list=[item for item in file_list if \"csv\" in item]\n",
    "print(len(file_list))"
   ]
  },
  {
   "attachments": {},
   "cell_type": "markdown",
   "id": "ad7d95a1",
   "metadata": {},
   "source": [
    "Open each output CSV and concatenate into a single pandas dataframe."
   ]
  },
  {
   "cell_type": "code",
   "execution_count": 6,
   "id": "ac1b6b4b",
   "metadata": {},
   "outputs": [
    {
     "data": {
      "text/html": [
       "<div>\n",
       "<style scoped>\n",
       "    .dataframe tbody tr th:only-of-type {\n",
       "        vertical-align: middle;\n",
       "    }\n",
       "\n",
       "    .dataframe tbody tr th {\n",
       "        vertical-align: top;\n",
       "    }\n",
       "\n",
       "    .dataframe thead th {\n",
       "        text-align: right;\n",
       "    }\n",
       "</style>\n",
       "<table border=\"1\" class=\"dataframe\">\n",
       "  <thead>\n",
       "    <tr style=\"text-align: right;\">\n",
       "      <th></th>\n",
       "      <th>BGC</th>\n",
       "      <th>0</th>\n",
       "    </tr>\n",
       "  </thead>\n",
       "  <tbody>\n",
       "    <tr>\n",
       "      <th>0</th>\n",
       "      <td>lichen_1.c00009_NODE_9_...region001.gbk</td>\n",
       "      <td>0.017341</td>\n",
       "    </tr>\n",
       "    <tr>\n",
       "      <th>1</th>\n",
       "      <td>lichen_1.c00013_NODE_13...region001.gbk</td>\n",
       "      <td>0.038044</td>\n",
       "    </tr>\n",
       "    <tr>\n",
       "      <th>2</th>\n",
       "      <td>lichen_1.c00014_NODE_14...region001.gbk</td>\n",
       "      <td>0.011383</td>\n",
       "    </tr>\n",
       "    <tr>\n",
       "      <th>3</th>\n",
       "      <td>lichen_1.c00017_NODE_17...region001.gbk</td>\n",
       "      <td>0.056056</td>\n",
       "    </tr>\n",
       "    <tr>\n",
       "      <th>4</th>\n",
       "      <td>lichen_1.c00020_NODE_20...region001.gbk</td>\n",
       "      <td>0.173857</td>\n",
       "    </tr>\n",
       "    <tr>\n",
       "      <th>...</th>\n",
       "      <td>...</td>\n",
       "      <td>...</td>\n",
       "    </tr>\n",
       "    <tr>\n",
       "      <th>14240</th>\n",
       "      <td>Li4c-H9.c00047_NODE_47...region001.gbk</td>\n",
       "      <td>0.021305</td>\n",
       "    </tr>\n",
       "    <tr>\n",
       "      <th>14241</th>\n",
       "      <td>Li4c-H9.c00048_NODE_48...region001.gbk</td>\n",
       "      <td>0.013563</td>\n",
       "    </tr>\n",
       "    <tr>\n",
       "      <th>14242</th>\n",
       "      <td>Li4c-H9.c00049_NODE_49...region001.gbk</td>\n",
       "      <td>0.015950</td>\n",
       "    </tr>\n",
       "    <tr>\n",
       "      <th>14243</th>\n",
       "      <td>Li4c-H9.c00051_NODE_51...region001.gbk</td>\n",
       "      <td>0.008375</td>\n",
       "    </tr>\n",
       "    <tr>\n",
       "      <th>14244</th>\n",
       "      <td>Li4c-H9.c00052_NODE_52...region001.gbk</td>\n",
       "      <td>0.020204</td>\n",
       "    </tr>\n",
       "  </tbody>\n",
       "</table>\n",
       "<p>14245 rows × 2 columns</p>\n",
       "</div>"
      ],
      "text/plain": [
       "                                           BGC         0\n",
       "0      lichen_1.c00009_NODE_9_...region001.gbk  0.017341\n",
       "1      lichen_1.c00013_NODE_13...region001.gbk  0.038044\n",
       "2      lichen_1.c00014_NODE_14...region001.gbk  0.011383\n",
       "3      lichen_1.c00017_NODE_17...region001.gbk  0.056056\n",
       "4      lichen_1.c00020_NODE_20...region001.gbk  0.173857\n",
       "...                                        ...       ...\n",
       "14240   Li4c-H9.c00047_NODE_47...region001.gbk  0.021305\n",
       "14241   Li4c-H9.c00048_NODE_48...region001.gbk  0.013563\n",
       "14242   Li4c-H9.c00049_NODE_49...region001.gbk  0.015950\n",
       "14243   Li4c-H9.c00051_NODE_51...region001.gbk  0.008375\n",
       "14244   Li4c-H9.c00052_NODE_52...region001.gbk  0.020204\n",
       "\n",
       "[14245 rows x 2 columns]"
      ]
     },
     "execution_count": 6,
     "metadata": {},
     "output_type": "execute_result"
    }
   ],
   "source": [
    "df_list=[]\n",
    "# loop and then concatenate\n",
    "for item in file_list:\n",
    "    df = pd.read_csv(item,index_col=0)\n",
    "    df_list.append(df)\n",
    "    merged_df = pd.concat(df_list, axis=1,ignore_index=True).rename_axis('BGC')\n",
    "    minValues0 = merged_df.min(axis=1).reset_index()\n",
    "\n",
    "# Change column names\n",
    "minValues0=minValues0.rename(columns={0:'min.cosine'})\n",
    "minValues0['BGC']=minValues0['BGC'].replace({'.gbk':''}, regex=True)\n",
    "minValues0.to_csv('lichen_mincosine.csv',index=None)\n",
    "\n",
    "display(minValues0.head())"
   ]
  },
  {
   "attachments": {},
   "cell_type": "markdown",
   "id": "f3fb6347",
   "metadata": {},
   "source": [
    "Prepare a summary of the ELF BGCs (Total count, number 'novel', percentage 'novel). "
   ]
  },
  {
   "cell_type": "code",
   "execution_count": 6,
   "id": "f288265d",
   "metadata": {},
   "outputs": [
    {
     "name": "stdout",
     "output_type": "stream",
     "text": [
      "Fungal 5704 183 3.2\n"
     ]
    }
   ],
   "source": [
    "fungal = minValues0[minValues0['BGC'].str.contains('ELF')]\n",
    "fungal\n",
    "print('Fungal',len(fungal),len(fungal[fungal[0]>0.2]),round(len(fungal[fungal[0]>0.2])/len(fungal)*100,1))"
   ]
  }
 ],
 "metadata": {
  "kernelspec": {
   "display_name": "Python 3 (ipykernel)",
   "language": "python",
   "name": "python3"
  },
  "language_info": {
   "codemirror_mode": {
    "name": "ipython",
    "version": 3
   },
   "file_extension": ".py",
   "mimetype": "text/x-python",
   "name": "python",
   "nbconvert_exporter": "python",
   "pygments_lexer": "ipython3",
   "version": "3.8.13"
  }
 },
 "nbformat": 4,
 "nbformat_minor": 5
}
