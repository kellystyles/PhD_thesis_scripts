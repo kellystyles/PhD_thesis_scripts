{
 "cells": [
  {
   "attachments": {},
   "cell_type": "markdown",
   "metadata": {},
   "source": [
    "# Plots of lichen data and the ELF isolated from them\n",
    "This Notebook plots descriptive data about the New Zealand lichen collection at Victoria University of Wellington and the taxonomy of endolichenic fungi (ELF) isolates that were recovered from a subset of these lichens."
   ]
  },
  {
   "cell_type": "code",
   "execution_count": 1,
   "metadata": {},
   "outputs": [],
   "source": [
    "import seaborn as sns\n",
    "import pandas as pd\n",
    "from matplotlib import pyplot as plt\n",
    "from mpl_toolkits.basemap import Basemap\n",
    "import plotly.graph_objects as go"
   ]
  },
  {
   "cell_type": "code",
   "execution_count": 2,
   "metadata": {},
   "outputs": [
    {
     "data": {
      "text/html": [
       "<div>\n",
       "<style scoped>\n",
       "    .dataframe tbody tr th:only-of-type {\n",
       "        vertical-align: middle;\n",
       "    }\n",
       "\n",
       "    .dataframe tbody tr th {\n",
       "        vertical-align: top;\n",
       "    }\n",
       "\n",
       "    .dataframe thead th {\n",
       "        text-align: right;\n",
       "    }\n",
       "</style>\n",
       "<table border=\"1\" class=\"dataframe\">\n",
       "  <thead>\n",
       "    <tr style=\"text-align: right;\">\n",
       "      <th></th>\n",
       "      <th>isolate_genus</th>\n",
       "      <th>isolate_class</th>\n",
       "      <th>Host_Genus</th>\n",
       "      <th>Host_ID</th>\n",
       "    </tr>\n",
       "  </thead>\n",
       "  <tbody>\n",
       "    <tr>\n",
       "      <th>0</th>\n",
       "      <td>Anthostomelloides</td>\n",
       "      <td>Sordariomycetes</td>\n",
       "      <td>Crocodia</td>\n",
       "      <td>436</td>\n",
       "    </tr>\n",
       "    <tr>\n",
       "      <th>1</th>\n",
       "      <td>Penicillium</td>\n",
       "      <td>Eurotiomycetes</td>\n",
       "      <td>Parmotrema</td>\n",
       "      <td>381</td>\n",
       "    </tr>\n",
       "    <tr>\n",
       "      <th>2</th>\n",
       "      <td>Anthostomelloides</td>\n",
       "      <td>Sordariomycetes</td>\n",
       "      <td>Menegazzia</td>\n",
       "      <td>447</td>\n",
       "    </tr>\n",
       "    <tr>\n",
       "      <th>3</th>\n",
       "      <td>Amphirosellinia</td>\n",
       "      <td>Sordariomycetes</td>\n",
       "      <td>Sphaerophorus</td>\n",
       "      <td>435</td>\n",
       "    </tr>\n",
       "    <tr>\n",
       "      <th>4</th>\n",
       "      <td>Amphirosellinia</td>\n",
       "      <td>Sordariomycetes</td>\n",
       "      <td>Menegazzia</td>\n",
       "      <td>447</td>\n",
       "    </tr>\n",
       "  </tbody>\n",
       "</table>\n",
       "</div>"
      ],
      "text/plain": [
       "       isolate_genus    isolate_class     Host_Genus  Host_ID\n",
       "0  Anthostomelloides  Sordariomycetes       Crocodia      436\n",
       "1        Penicillium   Eurotiomycetes     Parmotrema      381\n",
       "2  Anthostomelloides  Sordariomycetes     Menegazzia      447\n",
       "3    Amphirosellinia  Sordariomycetes  Sphaerophorus      435\n",
       "4    Amphirosellinia  Sordariomycetes     Menegazzia      447"
      ]
     },
     "execution_count": 2,
     "metadata": {},
     "output_type": "execute_result"
    }
   ],
   "source": [
    "df = pd.read_csv(\"../ELF_master_results.csv\")\n",
    "df2 = df[[\"isolate_genus\", \"isolate_class\", \"Host_Genus\", \"Host_ID\"]]\n",
    "df2 = df2.fillna(\"unidentified\")\n",
    "df2 = df2[df2[\"Host_Genus\"] != 0]\n",
    "df2.head()"
   ]
  },
  {
   "cell_type": "code",
   "execution_count": 5,
   "metadata": {},
   "outputs": [
    {
     "data": {
      "text/html": [
       "<div>\n",
       "<style scoped>\n",
       "    .dataframe tbody tr th:only-of-type {\n",
       "        vertical-align: middle;\n",
       "    }\n",
       "\n",
       "    .dataframe tbody tr th {\n",
       "        vertical-align: top;\n",
       "    }\n",
       "\n",
       "    .dataframe thead th {\n",
       "        text-align: right;\n",
       "    }\n",
       "</style>\n",
       "<table border=\"1\" class=\"dataframe\">\n",
       "  <thead>\n",
       "    <tr style=\"text-align: right;\">\n",
       "      <th>Host_Genus</th>\n",
       "      <th>Bunodophoron</th>\n",
       "      <th>Cladia</th>\n",
       "      <th>Cladonia</th>\n",
       "      <th>Coccotrema</th>\n",
       "      <th>Coenogonium</th>\n",
       "      <th>Crocodia</th>\n",
       "      <th>Leptogium</th>\n",
       "      <th>Menegazzia</th>\n",
       "      <th>Nephroma</th>\n",
       "      <th>Parmotrema</th>\n",
       "      <th>...</th>\n",
       "      <th>Ramalina</th>\n",
       "      <th>Siphula</th>\n",
       "      <th>Sphaerophorus</th>\n",
       "      <th>Stereocaulon</th>\n",
       "      <th>Sticta</th>\n",
       "      <th>Teloschistes</th>\n",
       "      <th>Usnea</th>\n",
       "      <th>Xanthoparmelia</th>\n",
       "      <th>Yarrumia</th>\n",
       "      <th>unidentified</th>\n",
       "    </tr>\n",
       "    <tr>\n",
       "      <th>isolate_genus</th>\n",
       "      <th></th>\n",
       "      <th></th>\n",
       "      <th></th>\n",
       "      <th></th>\n",
       "      <th></th>\n",
       "      <th></th>\n",
       "      <th></th>\n",
       "      <th></th>\n",
       "      <th></th>\n",
       "      <th></th>\n",
       "      <th></th>\n",
       "      <th></th>\n",
       "      <th></th>\n",
       "      <th></th>\n",
       "      <th></th>\n",
       "      <th></th>\n",
       "      <th></th>\n",
       "      <th></th>\n",
       "      <th></th>\n",
       "      <th></th>\n",
       "      <th></th>\n",
       "    </tr>\n",
       "  </thead>\n",
       "  <tbody>\n",
       "    <tr>\n",
       "      <th>Absidia</th>\n",
       "      <td>0.0</td>\n",
       "      <td>0.0</td>\n",
       "      <td>0.0</td>\n",
       "      <td>0.0</td>\n",
       "      <td>0.0</td>\n",
       "      <td>0.0</td>\n",
       "      <td>0.0</td>\n",
       "      <td>0.0</td>\n",
       "      <td>0.0</td>\n",
       "      <td>0.0</td>\n",
       "      <td>...</td>\n",
       "      <td>0.0</td>\n",
       "      <td>0.0</td>\n",
       "      <td>0.0</td>\n",
       "      <td>0.0</td>\n",
       "      <td>0.0</td>\n",
       "      <td>0.0</td>\n",
       "      <td>0.0</td>\n",
       "      <td>0.0</td>\n",
       "      <td>0.0</td>\n",
       "      <td>0.0</td>\n",
       "    </tr>\n",
       "    <tr>\n",
       "      <th>Amphirosellinia</th>\n",
       "      <td>0.0</td>\n",
       "      <td>0.0</td>\n",
       "      <td>0.0</td>\n",
       "      <td>0.0</td>\n",
       "      <td>0.0</td>\n",
       "      <td>0.0</td>\n",
       "      <td>0.0</td>\n",
       "      <td>2.0</td>\n",
       "      <td>0.0</td>\n",
       "      <td>0.0</td>\n",
       "      <td>...</td>\n",
       "      <td>0.0</td>\n",
       "      <td>1.0</td>\n",
       "      <td>1.0</td>\n",
       "      <td>0.0</td>\n",
       "      <td>2.0</td>\n",
       "      <td>0.0</td>\n",
       "      <td>2.0</td>\n",
       "      <td>0.0</td>\n",
       "      <td>2.0</td>\n",
       "      <td>0.0</td>\n",
       "    </tr>\n",
       "    <tr>\n",
       "      <th>Anthostomelloides</th>\n",
       "      <td>0.0</td>\n",
       "      <td>0.0</td>\n",
       "      <td>0.0</td>\n",
       "      <td>2.0</td>\n",
       "      <td>2.0</td>\n",
       "      <td>1.0</td>\n",
       "      <td>0.0</td>\n",
       "      <td>1.0</td>\n",
       "      <td>1.0</td>\n",
       "      <td>4.0</td>\n",
       "      <td>...</td>\n",
       "      <td>0.0</td>\n",
       "      <td>1.0</td>\n",
       "      <td>0.0</td>\n",
       "      <td>0.0</td>\n",
       "      <td>1.0</td>\n",
       "      <td>0.0</td>\n",
       "      <td>0.0</td>\n",
       "      <td>0.0</td>\n",
       "      <td>2.0</td>\n",
       "      <td>0.0</td>\n",
       "    </tr>\n",
       "    <tr>\n",
       "      <th>Antrelloides</th>\n",
       "      <td>1.0</td>\n",
       "      <td>0.0</td>\n",
       "      <td>0.0</td>\n",
       "      <td>0.0</td>\n",
       "      <td>0.0</td>\n",
       "      <td>0.0</td>\n",
       "      <td>0.0</td>\n",
       "      <td>0.0</td>\n",
       "      <td>0.0</td>\n",
       "      <td>0.0</td>\n",
       "      <td>...</td>\n",
       "      <td>0.0</td>\n",
       "      <td>0.0</td>\n",
       "      <td>0.0</td>\n",
       "      <td>0.0</td>\n",
       "      <td>0.0</td>\n",
       "      <td>0.0</td>\n",
       "      <td>0.0</td>\n",
       "      <td>0.0</td>\n",
       "      <td>0.0</td>\n",
       "      <td>0.0</td>\n",
       "    </tr>\n",
       "    <tr>\n",
       "      <th>Ascochyta</th>\n",
       "      <td>0.0</td>\n",
       "      <td>0.0</td>\n",
       "      <td>0.0</td>\n",
       "      <td>0.0</td>\n",
       "      <td>0.0</td>\n",
       "      <td>0.0</td>\n",
       "      <td>0.0</td>\n",
       "      <td>0.0</td>\n",
       "      <td>0.0</td>\n",
       "      <td>0.0</td>\n",
       "      <td>...</td>\n",
       "      <td>0.0</td>\n",
       "      <td>0.0</td>\n",
       "      <td>0.0</td>\n",
       "      <td>1.0</td>\n",
       "      <td>0.0</td>\n",
       "      <td>0.0</td>\n",
       "      <td>0.0</td>\n",
       "      <td>1.0</td>\n",
       "      <td>0.0</td>\n",
       "      <td>0.0</td>\n",
       "    </tr>\n",
       "    <tr>\n",
       "      <th>...</th>\n",
       "      <td>...</td>\n",
       "      <td>...</td>\n",
       "      <td>...</td>\n",
       "      <td>...</td>\n",
       "      <td>...</td>\n",
       "      <td>...</td>\n",
       "      <td>...</td>\n",
       "      <td>...</td>\n",
       "      <td>...</td>\n",
       "      <td>...</td>\n",
       "      <td>...</td>\n",
       "      <td>...</td>\n",
       "      <td>...</td>\n",
       "      <td>...</td>\n",
       "      <td>...</td>\n",
       "      <td>...</td>\n",
       "      <td>...</td>\n",
       "      <td>...</td>\n",
       "      <td>...</td>\n",
       "      <td>...</td>\n",
       "      <td>...</td>\n",
       "    </tr>\n",
       "    <tr>\n",
       "      <th>Trichonectria</th>\n",
       "      <td>0.0</td>\n",
       "      <td>0.0</td>\n",
       "      <td>0.0</td>\n",
       "      <td>0.0</td>\n",
       "      <td>0.0</td>\n",
       "      <td>0.0</td>\n",
       "      <td>0.0</td>\n",
       "      <td>0.0</td>\n",
       "      <td>0.0</td>\n",
       "      <td>1.0</td>\n",
       "      <td>...</td>\n",
       "      <td>0.0</td>\n",
       "      <td>0.0</td>\n",
       "      <td>0.0</td>\n",
       "      <td>0.0</td>\n",
       "      <td>0.0</td>\n",
       "      <td>0.0</td>\n",
       "      <td>0.0</td>\n",
       "      <td>0.0</td>\n",
       "      <td>0.0</td>\n",
       "      <td>0.0</td>\n",
       "    </tr>\n",
       "    <tr>\n",
       "      <th>Umbelopsis</th>\n",
       "      <td>0.0</td>\n",
       "      <td>0.0</td>\n",
       "      <td>0.0</td>\n",
       "      <td>0.0</td>\n",
       "      <td>0.0</td>\n",
       "      <td>0.0</td>\n",
       "      <td>2.0</td>\n",
       "      <td>0.0</td>\n",
       "      <td>0.0</td>\n",
       "      <td>0.0</td>\n",
       "      <td>...</td>\n",
       "      <td>0.0</td>\n",
       "      <td>0.0</td>\n",
       "      <td>0.0</td>\n",
       "      <td>0.0</td>\n",
       "      <td>0.0</td>\n",
       "      <td>0.0</td>\n",
       "      <td>0.0</td>\n",
       "      <td>0.0</td>\n",
       "      <td>0.0</td>\n",
       "      <td>0.0</td>\n",
       "    </tr>\n",
       "    <tr>\n",
       "      <th>Xylaria</th>\n",
       "      <td>1.0</td>\n",
       "      <td>0.0</td>\n",
       "      <td>0.0</td>\n",
       "      <td>1.0</td>\n",
       "      <td>0.0</td>\n",
       "      <td>0.0</td>\n",
       "      <td>0.0</td>\n",
       "      <td>0.0</td>\n",
       "      <td>0.0</td>\n",
       "      <td>3.0</td>\n",
       "      <td>...</td>\n",
       "      <td>0.0</td>\n",
       "      <td>1.0</td>\n",
       "      <td>0.0</td>\n",
       "      <td>0.0</td>\n",
       "      <td>1.0</td>\n",
       "      <td>0.0</td>\n",
       "      <td>0.0</td>\n",
       "      <td>0.0</td>\n",
       "      <td>1.0</td>\n",
       "      <td>0.0</td>\n",
       "    </tr>\n",
       "    <tr>\n",
       "      <th>Xylotumulus</th>\n",
       "      <td>0.0</td>\n",
       "      <td>0.0</td>\n",
       "      <td>0.0</td>\n",
       "      <td>0.0</td>\n",
       "      <td>0.0</td>\n",
       "      <td>0.0</td>\n",
       "      <td>0.0</td>\n",
       "      <td>0.0</td>\n",
       "      <td>0.0</td>\n",
       "      <td>2.0</td>\n",
       "      <td>...</td>\n",
       "      <td>0.0</td>\n",
       "      <td>0.0</td>\n",
       "      <td>0.0</td>\n",
       "      <td>0.0</td>\n",
       "      <td>0.0</td>\n",
       "      <td>0.0</td>\n",
       "      <td>0.0</td>\n",
       "      <td>0.0</td>\n",
       "      <td>0.0</td>\n",
       "      <td>0.0</td>\n",
       "    </tr>\n",
       "    <tr>\n",
       "      <th>unidentified</th>\n",
       "      <td>1.0</td>\n",
       "      <td>2.0</td>\n",
       "      <td>0.0</td>\n",
       "      <td>4.0</td>\n",
       "      <td>0.0</td>\n",
       "      <td>2.0</td>\n",
       "      <td>3.0</td>\n",
       "      <td>0.0</td>\n",
       "      <td>0.0</td>\n",
       "      <td>7.0</td>\n",
       "      <td>...</td>\n",
       "      <td>2.0</td>\n",
       "      <td>2.0</td>\n",
       "      <td>1.0</td>\n",
       "      <td>6.0</td>\n",
       "      <td>5.0</td>\n",
       "      <td>8.0</td>\n",
       "      <td>4.0</td>\n",
       "      <td>0.0</td>\n",
       "      <td>13.0</td>\n",
       "      <td>0.0</td>\n",
       "    </tr>\n",
       "  </tbody>\n",
       "</table>\n",
       "<p>68 rows × 25 columns</p>\n",
       "</div>"
      ],
      "text/plain": [
       "Host_Genus         Bunodophoron  Cladia  Cladonia  Coccotrema  Coenogonium  \\\n",
       "isolate_genus                                                                \n",
       "Absidia                     0.0     0.0       0.0         0.0          0.0   \n",
       "Amphirosellinia             0.0     0.0       0.0         0.0          0.0   \n",
       "Anthostomelloides           0.0     0.0       0.0         2.0          2.0   \n",
       "Antrelloides                1.0     0.0       0.0         0.0          0.0   \n",
       "Ascochyta                   0.0     0.0       0.0         0.0          0.0   \n",
       "...                         ...     ...       ...         ...          ...   \n",
       "Trichonectria               0.0     0.0       0.0         0.0          0.0   \n",
       "Umbelopsis                  0.0     0.0       0.0         0.0          0.0   \n",
       "Xylaria                     1.0     0.0       0.0         1.0          0.0   \n",
       "Xylotumulus                 0.0     0.0       0.0         0.0          0.0   \n",
       "unidentified                1.0     2.0       0.0         4.0          0.0   \n",
       "\n",
       "Host_Genus         Crocodia  Leptogium  Menegazzia  Nephroma  Parmotrema  ...  \\\n",
       "isolate_genus                                                             ...   \n",
       "Absidia                 0.0        0.0         0.0       0.0         0.0  ...   \n",
       "Amphirosellinia         0.0        0.0         2.0       0.0         0.0  ...   \n",
       "Anthostomelloides       1.0        0.0         1.0       1.0         4.0  ...   \n",
       "Antrelloides            0.0        0.0         0.0       0.0         0.0  ...   \n",
       "Ascochyta               0.0        0.0         0.0       0.0         0.0  ...   \n",
       "...                     ...        ...         ...       ...         ...  ...   \n",
       "Trichonectria           0.0        0.0         0.0       0.0         1.0  ...   \n",
       "Umbelopsis              0.0        2.0         0.0       0.0         0.0  ...   \n",
       "Xylaria                 0.0        0.0         0.0       0.0         3.0  ...   \n",
       "Xylotumulus             0.0        0.0         0.0       0.0         2.0  ...   \n",
       "unidentified            2.0        3.0         0.0       0.0         7.0  ...   \n",
       "\n",
       "Host_Genus         Ramalina  Siphula  Sphaerophorus  Stereocaulon  Sticta  \\\n",
       "isolate_genus                                                               \n",
       "Absidia                 0.0      0.0            0.0           0.0     0.0   \n",
       "Amphirosellinia         0.0      1.0            1.0           0.0     2.0   \n",
       "Anthostomelloides       0.0      1.0            0.0           0.0     1.0   \n",
       "Antrelloides            0.0      0.0            0.0           0.0     0.0   \n",
       "Ascochyta               0.0      0.0            0.0           1.0     0.0   \n",
       "...                     ...      ...            ...           ...     ...   \n",
       "Trichonectria           0.0      0.0            0.0           0.0     0.0   \n",
       "Umbelopsis              0.0      0.0            0.0           0.0     0.0   \n",
       "Xylaria                 0.0      1.0            0.0           0.0     1.0   \n",
       "Xylotumulus             0.0      0.0            0.0           0.0     0.0   \n",
       "unidentified            2.0      2.0            1.0           6.0     5.0   \n",
       "\n",
       "Host_Genus         Teloschistes  Usnea  Xanthoparmelia  Yarrumia  unidentified  \n",
       "isolate_genus                                                                   \n",
       "Absidia                     0.0    0.0             0.0       0.0           0.0  \n",
       "Amphirosellinia             0.0    2.0             0.0       2.0           0.0  \n",
       "Anthostomelloides           0.0    0.0             0.0       2.0           0.0  \n",
       "Antrelloides                0.0    0.0             0.0       0.0           0.0  \n",
       "Ascochyta                   0.0    0.0             1.0       0.0           0.0  \n",
       "...                         ...    ...             ...       ...           ...  \n",
       "Trichonectria               0.0    0.0             0.0       0.0           0.0  \n",
       "Umbelopsis                  0.0    0.0             0.0       0.0           0.0  \n",
       "Xylaria                     0.0    0.0             0.0       1.0           0.0  \n",
       "Xylotumulus                 0.0    0.0             0.0       0.0           0.0  \n",
       "unidentified                8.0    4.0             0.0      13.0           0.0  \n",
       "\n",
       "[68 rows x 25 columns]"
      ]
     },
     "execution_count": 5,
     "metadata": {},
     "output_type": "execute_result"
    }
   ],
   "source": [
    "dfa = df2.groupby(['isolate_genus','Host_Genus']).size().reset_index()\n",
    "dfb = dfa.pivot(index='isolate_genus', columns='Host_Genus', values=0).fillna(0)\n",
    "dfb.to_csv('lichen_contingency.csv')\n",
    "dfb"
   ]
  },
  {
   "cell_type": "code",
   "execution_count": 6,
   "metadata": {},
   "outputs": [
    {
     "data": {
      "text/html": [
       "<div>\n",
       "<style scoped>\n",
       "    .dataframe tbody tr th:only-of-type {\n",
       "        vertical-align: middle;\n",
       "    }\n",
       "\n",
       "    .dataframe tbody tr th {\n",
       "        vertical-align: top;\n",
       "    }\n",
       "\n",
       "    .dataframe thead th {\n",
       "        text-align: right;\n",
       "    }\n",
       "</style>\n",
       "<table border=\"1\" class=\"dataframe\">\n",
       "  <thead>\n",
       "    <tr style=\"text-align: right;\">\n",
       "      <th>Host_Genus</th>\n",
       "      <th>Pseudocyphellaria</th>\n",
       "      <th>Parmotrema</th>\n",
       "      <th>Stereocaulon</th>\n",
       "      <th>Yarrumia</th>\n",
       "      <th>Peltigera</th>\n",
       "      <th>Usnea</th>\n",
       "      <th>Leptogium</th>\n",
       "      <th>Teloschistes</th>\n",
       "      <th>Podostictina</th>\n",
       "      <th>Coccotrema</th>\n",
       "      <th>...</th>\n",
       "      <th>Siphula</th>\n",
       "      <th>Bunodophoron</th>\n",
       "      <th>Menegazzia</th>\n",
       "      <th>Coenogonium</th>\n",
       "      <th>Xanthoparmelia</th>\n",
       "      <th>unidentified</th>\n",
       "      <th>Nephroma</th>\n",
       "      <th>Sphaerophorus</th>\n",
       "      <th>Ramalina</th>\n",
       "      <th>Cladonia</th>\n",
       "    </tr>\n",
       "    <tr>\n",
       "      <th>isolate_genus</th>\n",
       "      <th></th>\n",
       "      <th></th>\n",
       "      <th></th>\n",
       "      <th></th>\n",
       "      <th></th>\n",
       "      <th></th>\n",
       "      <th></th>\n",
       "      <th></th>\n",
       "      <th></th>\n",
       "      <th></th>\n",
       "      <th></th>\n",
       "      <th></th>\n",
       "      <th></th>\n",
       "      <th></th>\n",
       "      <th></th>\n",
       "      <th></th>\n",
       "      <th></th>\n",
       "      <th></th>\n",
       "      <th></th>\n",
       "      <th></th>\n",
       "      <th></th>\n",
       "    </tr>\n",
       "  </thead>\n",
       "  <tbody>\n",
       "    <tr>\n",
       "      <th>Absidia</th>\n",
       "      <td>0.0</td>\n",
       "      <td>0.0</td>\n",
       "      <td>0.0</td>\n",
       "      <td>0.0</td>\n",
       "      <td>0.0</td>\n",
       "      <td>0.0</td>\n",
       "      <td>0.0</td>\n",
       "      <td>0.0</td>\n",
       "      <td>0.0</td>\n",
       "      <td>0.0</td>\n",
       "      <td>...</td>\n",
       "      <td>0.0</td>\n",
       "      <td>0.0</td>\n",
       "      <td>0.0</td>\n",
       "      <td>0.0</td>\n",
       "      <td>0.0</td>\n",
       "      <td>0.0</td>\n",
       "      <td>0.0</td>\n",
       "      <td>0.0</td>\n",
       "      <td>0.0</td>\n",
       "      <td>0.0</td>\n",
       "    </tr>\n",
       "    <tr>\n",
       "      <th>Amphirosellinia</th>\n",
       "      <td>0.0</td>\n",
       "      <td>0.0</td>\n",
       "      <td>0.0</td>\n",
       "      <td>2.0</td>\n",
       "      <td>0.0</td>\n",
       "      <td>2.0</td>\n",
       "      <td>0.0</td>\n",
       "      <td>0.0</td>\n",
       "      <td>0.0</td>\n",
       "      <td>0.0</td>\n",
       "      <td>...</td>\n",
       "      <td>1.0</td>\n",
       "      <td>0.0</td>\n",
       "      <td>2.0</td>\n",
       "      <td>0.0</td>\n",
       "      <td>0.0</td>\n",
       "      <td>0.0</td>\n",
       "      <td>0.0</td>\n",
       "      <td>1.0</td>\n",
       "      <td>0.0</td>\n",
       "      <td>0.0</td>\n",
       "    </tr>\n",
       "    <tr>\n",
       "      <th>Anthostomelloides</th>\n",
       "      <td>0.0</td>\n",
       "      <td>4.0</td>\n",
       "      <td>0.0</td>\n",
       "      <td>2.0</td>\n",
       "      <td>0.0</td>\n",
       "      <td>0.0</td>\n",
       "      <td>0.0</td>\n",
       "      <td>0.0</td>\n",
       "      <td>0.0</td>\n",
       "      <td>2.0</td>\n",
       "      <td>...</td>\n",
       "      <td>1.0</td>\n",
       "      <td>0.0</td>\n",
       "      <td>1.0</td>\n",
       "      <td>2.0</td>\n",
       "      <td>0.0</td>\n",
       "      <td>0.0</td>\n",
       "      <td>1.0</td>\n",
       "      <td>0.0</td>\n",
       "      <td>0.0</td>\n",
       "      <td>0.0</td>\n",
       "    </tr>\n",
       "    <tr>\n",
       "      <th>Antrelloides</th>\n",
       "      <td>0.0</td>\n",
       "      <td>0.0</td>\n",
       "      <td>0.0</td>\n",
       "      <td>0.0</td>\n",
       "      <td>0.0</td>\n",
       "      <td>0.0</td>\n",
       "      <td>0.0</td>\n",
       "      <td>0.0</td>\n",
       "      <td>0.0</td>\n",
       "      <td>0.0</td>\n",
       "      <td>...</td>\n",
       "      <td>0.0</td>\n",
       "      <td>1.0</td>\n",
       "      <td>0.0</td>\n",
       "      <td>0.0</td>\n",
       "      <td>0.0</td>\n",
       "      <td>0.0</td>\n",
       "      <td>0.0</td>\n",
       "      <td>0.0</td>\n",
       "      <td>0.0</td>\n",
       "      <td>0.0</td>\n",
       "    </tr>\n",
       "    <tr>\n",
       "      <th>Ascochyta</th>\n",
       "      <td>0.0</td>\n",
       "      <td>0.0</td>\n",
       "      <td>1.0</td>\n",
       "      <td>0.0</td>\n",
       "      <td>0.0</td>\n",
       "      <td>0.0</td>\n",
       "      <td>0.0</td>\n",
       "      <td>0.0</td>\n",
       "      <td>0.0</td>\n",
       "      <td>0.0</td>\n",
       "      <td>...</td>\n",
       "      <td>0.0</td>\n",
       "      <td>0.0</td>\n",
       "      <td>0.0</td>\n",
       "      <td>0.0</td>\n",
       "      <td>1.0</td>\n",
       "      <td>0.0</td>\n",
       "      <td>0.0</td>\n",
       "      <td>0.0</td>\n",
       "      <td>0.0</td>\n",
       "      <td>0.0</td>\n",
       "    </tr>\n",
       "    <tr>\n",
       "      <th>...</th>\n",
       "      <td>...</td>\n",
       "      <td>...</td>\n",
       "      <td>...</td>\n",
       "      <td>...</td>\n",
       "      <td>...</td>\n",
       "      <td>...</td>\n",
       "      <td>...</td>\n",
       "      <td>...</td>\n",
       "      <td>...</td>\n",
       "      <td>...</td>\n",
       "      <td>...</td>\n",
       "      <td>...</td>\n",
       "      <td>...</td>\n",
       "      <td>...</td>\n",
       "      <td>...</td>\n",
       "      <td>...</td>\n",
       "      <td>...</td>\n",
       "      <td>...</td>\n",
       "      <td>...</td>\n",
       "      <td>...</td>\n",
       "      <td>...</td>\n",
       "    </tr>\n",
       "    <tr>\n",
       "      <th>Trichonectria</th>\n",
       "      <td>0.0</td>\n",
       "      <td>1.0</td>\n",
       "      <td>0.0</td>\n",
       "      <td>0.0</td>\n",
       "      <td>0.0</td>\n",
       "      <td>0.0</td>\n",
       "      <td>0.0</td>\n",
       "      <td>0.0</td>\n",
       "      <td>0.0</td>\n",
       "      <td>0.0</td>\n",
       "      <td>...</td>\n",
       "      <td>0.0</td>\n",
       "      <td>0.0</td>\n",
       "      <td>0.0</td>\n",
       "      <td>0.0</td>\n",
       "      <td>0.0</td>\n",
       "      <td>0.0</td>\n",
       "      <td>0.0</td>\n",
       "      <td>0.0</td>\n",
       "      <td>0.0</td>\n",
       "      <td>0.0</td>\n",
       "    </tr>\n",
       "    <tr>\n",
       "      <th>Umbelopsis</th>\n",
       "      <td>1.0</td>\n",
       "      <td>0.0</td>\n",
       "      <td>0.0</td>\n",
       "      <td>0.0</td>\n",
       "      <td>0.0</td>\n",
       "      <td>0.0</td>\n",
       "      <td>2.0</td>\n",
       "      <td>0.0</td>\n",
       "      <td>0.0</td>\n",
       "      <td>0.0</td>\n",
       "      <td>...</td>\n",
       "      <td>0.0</td>\n",
       "      <td>0.0</td>\n",
       "      <td>0.0</td>\n",
       "      <td>0.0</td>\n",
       "      <td>0.0</td>\n",
       "      <td>0.0</td>\n",
       "      <td>0.0</td>\n",
       "      <td>0.0</td>\n",
       "      <td>0.0</td>\n",
       "      <td>0.0</td>\n",
       "    </tr>\n",
       "    <tr>\n",
       "      <th>Xylaria</th>\n",
       "      <td>0.0</td>\n",
       "      <td>3.0</td>\n",
       "      <td>0.0</td>\n",
       "      <td>1.0</td>\n",
       "      <td>0.0</td>\n",
       "      <td>0.0</td>\n",
       "      <td>0.0</td>\n",
       "      <td>0.0</td>\n",
       "      <td>1.0</td>\n",
       "      <td>1.0</td>\n",
       "      <td>...</td>\n",
       "      <td>1.0</td>\n",
       "      <td>1.0</td>\n",
       "      <td>0.0</td>\n",
       "      <td>0.0</td>\n",
       "      <td>0.0</td>\n",
       "      <td>0.0</td>\n",
       "      <td>0.0</td>\n",
       "      <td>0.0</td>\n",
       "      <td>0.0</td>\n",
       "      <td>0.0</td>\n",
       "    </tr>\n",
       "    <tr>\n",
       "      <th>Xylotumulus</th>\n",
       "      <td>0.0</td>\n",
       "      <td>2.0</td>\n",
       "      <td>0.0</td>\n",
       "      <td>0.0</td>\n",
       "      <td>0.0</td>\n",
       "      <td>0.0</td>\n",
       "      <td>0.0</td>\n",
       "      <td>0.0</td>\n",
       "      <td>0.0</td>\n",
       "      <td>0.0</td>\n",
       "      <td>...</td>\n",
       "      <td>0.0</td>\n",
       "      <td>0.0</td>\n",
       "      <td>0.0</td>\n",
       "      <td>0.0</td>\n",
       "      <td>0.0</td>\n",
       "      <td>0.0</td>\n",
       "      <td>0.0</td>\n",
       "      <td>0.0</td>\n",
       "      <td>0.0</td>\n",
       "      <td>0.0</td>\n",
       "    </tr>\n",
       "    <tr>\n",
       "      <th>unidentified</th>\n",
       "      <td>9.0</td>\n",
       "      <td>7.0</td>\n",
       "      <td>6.0</td>\n",
       "      <td>13.0</td>\n",
       "      <td>7.0</td>\n",
       "      <td>4.0</td>\n",
       "      <td>3.0</td>\n",
       "      <td>8.0</td>\n",
       "      <td>7.0</td>\n",
       "      <td>4.0</td>\n",
       "      <td>...</td>\n",
       "      <td>2.0</td>\n",
       "      <td>1.0</td>\n",
       "      <td>0.0</td>\n",
       "      <td>0.0</td>\n",
       "      <td>0.0</td>\n",
       "      <td>0.0</td>\n",
       "      <td>0.0</td>\n",
       "      <td>1.0</td>\n",
       "      <td>2.0</td>\n",
       "      <td>0.0</td>\n",
       "    </tr>\n",
       "  </tbody>\n",
       "</table>\n",
       "<p>68 rows × 25 columns</p>\n",
       "</div>"
      ],
      "text/plain": [
       "Host_Genus         Pseudocyphellaria  Parmotrema  Stereocaulon  Yarrumia  \\\n",
       "isolate_genus                                                              \n",
       "Absidia                          0.0         0.0           0.0       0.0   \n",
       "Amphirosellinia                  0.0         0.0           0.0       2.0   \n",
       "Anthostomelloides                0.0         4.0           0.0       2.0   \n",
       "Antrelloides                     0.0         0.0           0.0       0.0   \n",
       "Ascochyta                        0.0         0.0           1.0       0.0   \n",
       "...                              ...         ...           ...       ...   \n",
       "Trichonectria                    0.0         1.0           0.0       0.0   \n",
       "Umbelopsis                       1.0         0.0           0.0       0.0   \n",
       "Xylaria                          0.0         3.0           0.0       1.0   \n",
       "Xylotumulus                      0.0         2.0           0.0       0.0   \n",
       "unidentified                     9.0         7.0           6.0      13.0   \n",
       "\n",
       "Host_Genus         Peltigera  Usnea  Leptogium  Teloschistes  Podostictina  \\\n",
       "isolate_genus                                                                \n",
       "Absidia                  0.0    0.0        0.0           0.0           0.0   \n",
       "Amphirosellinia          0.0    2.0        0.0           0.0           0.0   \n",
       "Anthostomelloides        0.0    0.0        0.0           0.0           0.0   \n",
       "Antrelloides             0.0    0.0        0.0           0.0           0.0   \n",
       "Ascochyta                0.0    0.0        0.0           0.0           0.0   \n",
       "...                      ...    ...        ...           ...           ...   \n",
       "Trichonectria            0.0    0.0        0.0           0.0           0.0   \n",
       "Umbelopsis               0.0    0.0        2.0           0.0           0.0   \n",
       "Xylaria                  0.0    0.0        0.0           0.0           1.0   \n",
       "Xylotumulus              0.0    0.0        0.0           0.0           0.0   \n",
       "unidentified             7.0    4.0        3.0           8.0           7.0   \n",
       "\n",
       "Host_Genus         Coccotrema  ...  Siphula  Bunodophoron  Menegazzia  \\\n",
       "isolate_genus                  ...                                      \n",
       "Absidia                   0.0  ...      0.0           0.0         0.0   \n",
       "Amphirosellinia           0.0  ...      1.0           0.0         2.0   \n",
       "Anthostomelloides         2.0  ...      1.0           0.0         1.0   \n",
       "Antrelloides              0.0  ...      0.0           1.0         0.0   \n",
       "Ascochyta                 0.0  ...      0.0           0.0         0.0   \n",
       "...                       ...  ...      ...           ...         ...   \n",
       "Trichonectria             0.0  ...      0.0           0.0         0.0   \n",
       "Umbelopsis                0.0  ...      0.0           0.0         0.0   \n",
       "Xylaria                   1.0  ...      1.0           1.0         0.0   \n",
       "Xylotumulus               0.0  ...      0.0           0.0         0.0   \n",
       "unidentified              4.0  ...      2.0           1.0         0.0   \n",
       "\n",
       "Host_Genus         Coenogonium  Xanthoparmelia  unidentified  Nephroma  \\\n",
       "isolate_genus                                                            \n",
       "Absidia                    0.0             0.0           0.0       0.0   \n",
       "Amphirosellinia            0.0             0.0           0.0       0.0   \n",
       "Anthostomelloides          2.0             0.0           0.0       1.0   \n",
       "Antrelloides               0.0             0.0           0.0       0.0   \n",
       "Ascochyta                  0.0             1.0           0.0       0.0   \n",
       "...                        ...             ...           ...       ...   \n",
       "Trichonectria              0.0             0.0           0.0       0.0   \n",
       "Umbelopsis                 0.0             0.0           0.0       0.0   \n",
       "Xylaria                    0.0             0.0           0.0       0.0   \n",
       "Xylotumulus                0.0             0.0           0.0       0.0   \n",
       "unidentified               0.0             0.0           0.0       0.0   \n",
       "\n",
       "Host_Genus         Sphaerophorus  Ramalina  Cladonia  \n",
       "isolate_genus                                         \n",
       "Absidia                      0.0       0.0       0.0  \n",
       "Amphirosellinia              1.0       0.0       0.0  \n",
       "Anthostomelloides            0.0       0.0       0.0  \n",
       "Antrelloides                 0.0       0.0       0.0  \n",
       "Ascochyta                    0.0       0.0       0.0  \n",
       "...                          ...       ...       ...  \n",
       "Trichonectria                0.0       0.0       0.0  \n",
       "Umbelopsis                   0.0       0.0       0.0  \n",
       "Xylaria                      0.0       0.0       0.0  \n",
       "Xylotumulus                  0.0       0.0       0.0  \n",
       "unidentified                 1.0       2.0       0.0  \n",
       "\n",
       "[68 rows x 25 columns]"
      ]
     },
     "metadata": {},
     "output_type": "display_data"
    }
   ],
   "source": [
    "dfb = dfb.fillna(0)\n",
    "dfb.loc['Column_Total']= dfb.sum(numeric_only=True, axis=0)\n",
    "dfb = dfb.T\n",
    "dfb = dfb.sort_values(by=\"Column_Total\",ascending=False)\n",
    "dfb = dfb.T.drop(\"Column_Total\")\n",
    "display(dfb)\n",
    "df5 = dfb.T\n",
    "df5.to_csv(\"lichen_isolates.csv\")"
   ]
  },
  {
   "cell_type": "code",
   "execution_count": 7,
   "metadata": {},
   "outputs": [],
   "source": [
    "prevalent_cols = dfb.sum().index\n",
    "color_map = dict(zip(prevalent_cols, sns.color_palette()[:len(prevalent_cols)]))\n",
    "column_sum=dfb.sum(axis=0).reset_index().sort_values(by=[0],ascending=False)"
   ]
  },
  {
   "attachments": {},
   "cell_type": "markdown",
   "metadata": {},
   "source": [
    "The following plot is edited using an SVG editor to align the top barplot with the rows of the heat matrix. The top-left empty subplot is also removed."
   ]
  },
  {
   "cell_type": "code",
   "execution_count": 8,
   "metadata": {},
   "outputs": [
    {
     "data": {
      "image/png": "[encoded data removed]",
      "text/plain": [
       "<Figure size 2000x1000 with 5 Axes>"
      ]
     },
     "metadata": {},
     "output_type": "display_data"
    }
   ],
   "source": [
    "fig, axes = plt.subplots(2, 2, figsize=(20, 10), gridspec_kw={'width_ratios': [.2, .8]})\n",
    "\n",
    "sns.set(rc={'figure.figsize':(20,10)})\n",
    "sns.set_theme(\"notebook\")\n",
    "sns.set_style(\"white\")\n",
    "\n",
    "ax1 = sns.barplot(data=column_sum, y=column_sum[\"Host_Genus\"], x=column_sum[0],color='grey', ax=axes[1,0])\n",
    "ax1.invert_xaxis()\n",
    "ax1.yaxis.tick_right()\n",
    "ax1.set_xlabel('Number of isolates',fontsize=12)\n",
    "ax1.set(ylabel=None)\n",
    "sns.despine(left=True, ax=ax1)\n",
    "ax1.set(xticks=[0,10,20,30,40,50])\n",
    "\n",
    "colors1 = {'Amphirosellinia':'#4c72b0ff', 'Anthostomedlloides':'#ff6600ff', 'Fusarium':'#00aa00ff', 'Gelasinospora':'#ff0066ff', 'Mucor':'#7137c8ff', 'Penicillium':'#ff55ddff', 'Pestalotiopsis':'#d4ff2aff', 'Preussia':'#2ad4ffff', 'Trichoderma':'#ffd42aff', 'Xylaria':'#00ffccff', 'unidentified': '#dee3dbff'}         \n",
    "colors2 = colors1.copy()\n",
    "for i in dfb.index:\n",
    "    if i not in colors2:\n",
    "        colors2[i] = \"grey\"\n",
    "labels = list(colors1.keys())\n",
    "handles = [plt.Rectangle((0,0),1,1, color=colors1[label]) for label in labels]\n",
    "ax2 = sns.barplot(x=dfb.index, y=dfb.sum(axis=1), palette=colors2, ax=axes[0,1])\n",
    "ax2.set_xticklabels(labels=dfb.index, rotation=90, fontstyle='italic')\n",
    "ax2.set(xticklabels=[])  \n",
    "ax2.set(xlabel=None)\n",
    "ax2.set_xticks([0, 10, 20, 30, 40, 50])\n",
    "ax2.set(ylabel=\"Number of isolates\")\n",
    "ax2.legend(handles, labels, title=\"ELF genera count >8\", frameon=False)\n",
    "sns.despine(right=True, ax=ax2)\n",
    "\n",
    "colours=[\"#FFFFFF\", \"#ffffad\", \"#ffff0a\", \"#ffb700\", \"#ff6600\", \"#ff3b00\", \"#d40000\", \"#800000\", \"#440000\", \"#000000\"]\n",
    "ax3 = sns.heatmap(dfb.T, square=True, cmap=colours, linecolor=\"black\", linewidths=.5, \\\n",
    "                  cbar_kws={'drawedges':True, 'pad':0.02, 'label': 'Number of isolates', \"shrink\": 1})\n",
    "ax3.set(xticklabels=[])\n",
    "ax3.set(yticklabels=[])\n",
    "#ax3.set_xticks(labels=x_labels, rotation=45, ticks=x_labels)\n",
    "ax3.set(xlabel=None)\n",
    "fig.tight_layout()\n",
    "plt.savefig(\"complete_plot.svg\", format=\"svg\", bbox_inches='tight')\n",
    "plt.show()"
   ]
  },
  {
   "attachments": {},
   "cell_type": "markdown",
   "metadata": {},
   "source": [
    "## Plot of ELF by class\n",
    "The below plot was altered in an SVG editor by combining with the Common Tree for the Classes as defined at https://www.ncbi.nlm.nih.gov/guide/howto/gen-com-tree/.  "
   ]
  },
  {
   "cell_type": "code",
   "execution_count": 9,
   "metadata": {},
   "outputs": [
    {
     "data": {
      "text/html": [
       "<div>\n",
       "<style scoped>\n",
       "    .dataframe tbody tr th:only-of-type {\n",
       "        vertical-align: middle;\n",
       "    }\n",
       "\n",
       "    .dataframe tbody tr th {\n",
       "        vertical-align: top;\n",
       "    }\n",
       "\n",
       "    .dataframe thead th {\n",
       "        text-align: right;\n",
       "    }\n",
       "</style>\n",
       "<table border=\"1\" class=\"dataframe\">\n",
       "  <thead>\n",
       "    <tr style=\"text-align: right;\">\n",
       "      <th></th>\n",
       "      <th>isolate_class</th>\n",
       "      <th>count</th>\n",
       "      <th>Unnamed: 2</th>\n",
       "      <th>Unnamed: 3</th>\n",
       "      <th>Unnamed: 4</th>\n",
       "      <th>Unnamed: 5</th>\n",
       "    </tr>\n",
       "  </thead>\n",
       "  <tbody>\n",
       "    <tr>\n",
       "      <th>0</th>\n",
       "      <td>Sordariomycetes</td>\n",
       "      <td>147</td>\n",
       "      <td>43.491124</td>\n",
       "      <td>NaN</td>\n",
       "      <td>Basidiomyocta</td>\n",
       "      <td>2.366864</td>\n",
       "    </tr>\n",
       "    <tr>\n",
       "      <th>1</th>\n",
       "      <td>Mucoromycetes</td>\n",
       "      <td>14</td>\n",
       "      <td>4.142012</td>\n",
       "      <td>NaN</td>\n",
       "      <td>Mucoromycota</td>\n",
       "      <td>5.325444</td>\n",
       "    </tr>\n",
       "    <tr>\n",
       "      <th>2</th>\n",
       "      <td>unidentified</td>\n",
       "      <td>80</td>\n",
       "      <td>23.668639</td>\n",
       "      <td>NaN</td>\n",
       "      <td>Ascomycota</td>\n",
       "      <td>68.639053</td>\n",
       "    </tr>\n",
       "    <tr>\n",
       "      <th>3</th>\n",
       "      <td>Agaricomycetes</td>\n",
       "      <td>6</td>\n",
       "      <td>1.775148</td>\n",
       "      <td>NaN</td>\n",
       "      <td>NaN</td>\n",
       "      <td>NaN</td>\n",
       "    </tr>\n",
       "    <tr>\n",
       "      <th>4</th>\n",
       "      <td>Eurotiomycetes</td>\n",
       "      <td>36</td>\n",
       "      <td>10.650888</td>\n",
       "      <td>NaN</td>\n",
       "      <td>NaN</td>\n",
       "      <td>NaN</td>\n",
       "    </tr>\n",
       "    <tr>\n",
       "      <th>5</th>\n",
       "      <td>Dothideomycetes</td>\n",
       "      <td>31</td>\n",
       "      <td>9.171598</td>\n",
       "      <td>NaN</td>\n",
       "      <td>NaN</td>\n",
       "      <td>NaN</td>\n",
       "    </tr>\n",
       "    <tr>\n",
       "      <th>6</th>\n",
       "      <td>Pezizomycetes</td>\n",
       "      <td>13</td>\n",
       "      <td>3.846154</td>\n",
       "      <td>NaN</td>\n",
       "      <td>NaN</td>\n",
       "      <td>NaN</td>\n",
       "    </tr>\n",
       "    <tr>\n",
       "      <th>7</th>\n",
       "      <td>Umbelopsidomycetes</td>\n",
       "      <td>4</td>\n",
       "      <td>1.183432</td>\n",
       "      <td>NaN</td>\n",
       "      <td>NaN</td>\n",
       "      <td>NaN</td>\n",
       "    </tr>\n",
       "    <tr>\n",
       "      <th>8</th>\n",
       "      <td>Tremellomycetes</td>\n",
       "      <td>2</td>\n",
       "      <td>0.591716</td>\n",
       "      <td>NaN</td>\n",
       "      <td>NaN</td>\n",
       "      <td>NaN</td>\n",
       "    </tr>\n",
       "    <tr>\n",
       "      <th>9</th>\n",
       "      <td>Leotiomycetes</td>\n",
       "      <td>4</td>\n",
       "      <td>1.183432</td>\n",
       "      <td>NaN</td>\n",
       "      <td>NaN</td>\n",
       "      <td>NaN</td>\n",
       "    </tr>\n",
       "    <tr>\n",
       "      <th>10</th>\n",
       "      <td>Saccharomycetes</td>\n",
       "      <td>1</td>\n",
       "      <td>0.295858</td>\n",
       "      <td>NaN</td>\n",
       "      <td>NaN</td>\n",
       "      <td>NaN</td>\n",
       "    </tr>\n",
       "    <tr>\n",
       "      <th>11</th>\n",
       "      <td>TOTAL</td>\n",
       "      <td>338</td>\n",
       "      <td>NaN</td>\n",
       "      <td>NaN</td>\n",
       "      <td>NaN</td>\n",
       "      <td>NaN</td>\n",
       "    </tr>\n",
       "  </tbody>\n",
       "</table>\n",
       "</div>"
      ],
      "text/plain": [
       "         isolate_class  count  Unnamed: 2  Unnamed: 3     Unnamed: 4  \\\n",
       "0      Sordariomycetes    147   43.491124         NaN  Basidiomyocta   \n",
       "1        Mucoromycetes     14    4.142012         NaN   Mucoromycota   \n",
       "2         unidentified     80   23.668639         NaN     Ascomycota   \n",
       "3       Agaricomycetes      6    1.775148         NaN            NaN   \n",
       "4       Eurotiomycetes     36   10.650888         NaN            NaN   \n",
       "5      Dothideomycetes     31    9.171598         NaN            NaN   \n",
       "6        Pezizomycetes     13    3.846154         NaN            NaN   \n",
       "7   Umbelopsidomycetes      4    1.183432         NaN            NaN   \n",
       "8      Tremellomycetes      2    0.591716         NaN            NaN   \n",
       "9        Leotiomycetes      4    1.183432         NaN            NaN   \n",
       "10     Saccharomycetes      1    0.295858         NaN            NaN   \n",
       "11               TOTAL    338         NaN         NaN            NaN   \n",
       "\n",
       "    Unnamed: 5  \n",
       "0     2.366864  \n",
       "1     5.325444  \n",
       "2    68.639053  \n",
       "3          NaN  \n",
       "4          NaN  \n",
       "5          NaN  \n",
       "6          NaN  \n",
       "7          NaN  \n",
       "8          NaN  \n",
       "9          NaN  \n",
       "10         NaN  \n",
       "11         NaN  "
      ]
     },
     "execution_count": 9,
     "metadata": {},
     "output_type": "execute_result"
    }
   ],
   "source": [
    "df = pd.read_csv(\"fungal_class_counts.csv\")\n",
    "df"
   ]
  },
  {
   "cell_type": "code",
   "execution_count": 10,
   "metadata": {},
   "outputs": [
    {
     "name": "stdout",
     "output_type": "stream",
     "text": [
      "['tab:orange', 'tab:orange', 'tab:orange', 'tab:orange', 'tab:orange', 'tab:orange', 'tab:orange', 'tab:orange', 'tab:orange', 'tab:orange', 'tab:red']\n"
     ]
    },
    {
     "data": {
      "image/png": "[encoded data removed]",
      "text/plain": [
       "<Figure size 500x1000 with 1 Axes>"
      ]
     },
     "metadata": {},
     "output_type": "display_data"
    }
   ],
   "source": [
    "sns.set(rc={'figure.figsize':(5,10)})\n",
    "sns.set_theme(\"notebook\")\n",
    "sns.set_style(\"white\")\n",
    "class_order = [\"Agaricomycetes\", \"Tremellomycetes\", \"Mucoromycetes\", \"Umbelopsidomycetes\", \"Saccharomycetes\", \\\n",
    "              \"Dothideomycetes\", \"Eurotiomycetes\", \"Leotiomycetes\", \"Pezizomycetes\", \"Sordariomycetes\", \"unidentified\"]\n",
    "colours = ['tab:orange', 'tab:orange', 'tab:orange', 'tab:orange', 'tab:orange', 'tab:orange', 'tab:orange', 'tab:orange', 'tab:orange', 'tab:orange', 'tab:red']\n",
    "print(colours)\n",
    "ax = sns.barplot(data=df, x=\"count\", y=\"isolate_class\", order=class_order, palette=colours)\n",
    "plt.xscale('log')\n",
    "sns.despine(right=True)\n",
    "ax.set(xlabel='log count', ylabel='')\n",
    "ax.tick_params(axis='y', labelsize=16)\n",
    "ax.tick_params(axis='x', labelsize=12)\n",
    "ax.set_title('ELF count by fungal Class', fontsize=14)\n",
    "plt.savefig(\"ELF_count_fungal_Class.svg\", format=\"svg\")"
   ]
  },
  {
   "attachments": {},
   "cell_type": "markdown",
   "metadata": {},
   "source": [
    "### Geographical map"
   ]
  },
  {
   "cell_type": "code",
   "execution_count": 13,
   "metadata": {},
   "outputs": [
    {
     "data": {
      "image/png": "[encoded data removed]",
      "text/plain": [
       "<Figure size 1500x1000 with 1 Axes>"
      ]
     },
     "metadata": {},
     "output_type": "display_data"
    }
   ],
   "source": [
    "map_df = pd.read_csv(\"lichen_collection_locations.csv\")\n",
    "\n",
    "# Set the dimension of the figure\n",
    "plt.rcParams[\"figure.figsize\"]=15,10;\n",
    "\n",
    "# Make the background map\n",
    "m=Basemap(llcrnrlon=165, llcrnrlat=-48, urcrnrlon=180, urcrnrlat=-33, projection='merc', resolution=\"l\");\n",
    "m.drawmapboundary(fill_color='#FFFFFF', linewidth=0);\n",
    "m.fillcontinents(color='grey', alpha=0.3);\n",
    "m.drawcoastlines(linewidth=0.2, color=\"black\");\n",
    "\n",
    "xpt,ypt = m(170.477721,-45.901944) # order of lat,long important\n",
    "#m.plot(xpt,ypt,'bo') \n",
    "# transforms long, lat data to fit map projection\n",
    "map_df[\"long\"], map_df[\"lat\"] = m(map_df[\"Longitude\"], map_df[\"Latitude\"])\n",
    "map_df[\"size\"] = map_df[\"Count\"]*100\n",
    "# Add a point per position\n",
    "ax = sns.scatterplot(data=map_df,\n",
    "    x=\"long\", \n",
    "    y=\"lat\", \n",
    "    size='Count',\n",
    "    sizes=(10,400),\n",
    "    palette=\"muted\",\n",
    "    hue='Macroclimate',\n",
    "    edgecolor='black',\n",
    "    linewidth=0.1\n",
    ")\n",
    "\n",
    "plt.legend(frameon=False)\n",
    "legend = plt.legend()\n",
    "legend.get_frame().set_linewidth(0.0)\n",
    "frame = legend.get_frame()\n",
    "frame.set_facecolor('#FFFFFF')\n",
    "\n",
    "plt.savefig(\"lichen_collection_map.svg\")"
   ]
  },
  {
   "attachments": {},
   "cell_type": "markdown",
   "metadata": {},
   "source": [
    "## Plots of lichen descriptive data"
   ]
  },
  {
   "cell_type": "code",
   "execution_count": 15,
   "metadata": {},
   "outputs": [
    {
     "name": "stdout",
     "output_type": "stream",
     "text": [
      "Number of total lichens: 399\n",
      "Number of investigated lichens: 246\n"
     ]
    },
    {
     "name": "stderr",
     "output_type": "stream",
     "text": [
      "C:\\Users\\styleske\\AppData\\Local\\Temp\\ipykernel_11996\\3819098105.py:3: SettingWithCopyWarning: \n",
      "A value is trying to be set on a copy of a slice from a DataFrame.\n",
      "Try using .loc[row_indexer,col_indexer] = value instead\n",
      "\n",
      "See the caveats in the documentation: https://pandas.pydata.org/pandas-docs/stable/user_guide/indexing.html#returning-a-view-versus-a-copy\n",
      "  lichen_df2['Photobiont'] = lichen_df2['Photobiont'].replace('Tri', 'Tripartite')\n"
     ]
    },
    {
     "data": {
      "text/html": [
       "<div>\n",
       "<style scoped>\n",
       "    .dataframe tbody tr th:only-of-type {\n",
       "        vertical-align: middle;\n",
       "    }\n",
       "\n",
       "    .dataframe tbody tr th {\n",
       "        vertical-align: top;\n",
       "    }\n",
       "\n",
       "    .dataframe thead th {\n",
       "        text-align: right;\n",
       "    }\n",
       "</style>\n",
       "<table border=\"1\" class=\"dataframe\">\n",
       "  <thead>\n",
       "    <tr style=\"text-align: right;\">\n",
       "      <th></th>\n",
       "      <th>Lichen</th>\n",
       "      <th>Collection location</th>\n",
       "      <th>Class</th>\n",
       "      <th>Order</th>\n",
       "      <th>Family</th>\n",
       "      <th>Genus</th>\n",
       "      <th>Species</th>\n",
       "      <th>Photobiont</th>\n",
       "      <th>Growth</th>\n",
       "      <th>Macroclimate</th>\n",
       "    </tr>\n",
       "  </thead>\n",
       "  <tbody>\n",
       "    <tr>\n",
       "      <th>13</th>\n",
       "      <td>23</td>\n",
       "      <td>Wellington</td>\n",
       "      <td>Lecanoromycetes</td>\n",
       "      <td>Peltigerales</td>\n",
       "      <td>Lobariaceae</td>\n",
       "      <td>Yarrumia</td>\n",
       "      <td>colensoi</td>\n",
       "      <td>Green</td>\n",
       "      <td>Foliose</td>\n",
       "      <td>Mild, sub-humid</td>\n",
       "    </tr>\n",
       "    <tr>\n",
       "      <th>25</th>\n",
       "      <td>102</td>\n",
       "      <td>Wellington</td>\n",
       "      <td>Lecanoromycetes</td>\n",
       "      <td>Lecanorales</td>\n",
       "      <td>Collemataceae</td>\n",
       "      <td>Collema</td>\n",
       "      <td>sp.</td>\n",
       "      <td>Cyano</td>\n",
       "      <td>Foliose</td>\n",
       "      <td>Mild, sub-humid</td>\n",
       "    </tr>\n",
       "    <tr>\n",
       "      <th>29</th>\n",
       "      <td>106</td>\n",
       "      <td>Wellington</td>\n",
       "      <td>Lecanoromycetes</td>\n",
       "      <td>Lecanorales</td>\n",
       "      <td>Collemataceae</td>\n",
       "      <td>Leptogium</td>\n",
       "      <td>coralloideum</td>\n",
       "      <td>Cyano</td>\n",
       "      <td>Foliose</td>\n",
       "      <td>Mild, sub-humid</td>\n",
       "    </tr>\n",
       "    <tr>\n",
       "      <th>32</th>\n",
       "      <td>109</td>\n",
       "      <td>Wellington</td>\n",
       "      <td>Lecanoromycetes</td>\n",
       "      <td>Lecanorales</td>\n",
       "      <td>Collemataceae</td>\n",
       "      <td>Leptogium</td>\n",
       "      <td>coralloideum</td>\n",
       "      <td>Cyano</td>\n",
       "      <td>Foliose</td>\n",
       "      <td>Mild, sub-humid</td>\n",
       "    </tr>\n",
       "    <tr>\n",
       "      <th>33</th>\n",
       "      <td>110</td>\n",
       "      <td>Wellington</td>\n",
       "      <td>Lecanoromycetes</td>\n",
       "      <td>Lecanorales</td>\n",
       "      <td>Collemataceae</td>\n",
       "      <td>Collema</td>\n",
       "      <td>sp.</td>\n",
       "      <td>Cyano</td>\n",
       "      <td>Foliose</td>\n",
       "      <td>Mild, sub-humid</td>\n",
       "    </tr>\n",
       "    <tr>\n",
       "      <th>...</th>\n",
       "      <td>...</td>\n",
       "      <td>...</td>\n",
       "      <td>...</td>\n",
       "      <td>...</td>\n",
       "      <td>...</td>\n",
       "      <td>...</td>\n",
       "      <td>...</td>\n",
       "      <td>...</td>\n",
       "      <td>...</td>\n",
       "      <td>...</td>\n",
       "    </tr>\n",
       "    <tr>\n",
       "      <th>394</th>\n",
       "      <td>472</td>\n",
       "      <td>Wainuiomata water reserve</td>\n",
       "      <td>Lecanoromycetes</td>\n",
       "      <td>Lecanorales</td>\n",
       "      <td>Stereocaulaceae</td>\n",
       "      <td>Stereocaulon</td>\n",
       "      <td>ramulosum</td>\n",
       "      <td>Tripartite</td>\n",
       "      <td>Fruticose</td>\n",
       "      <td>Mild, sub-humid</td>\n",
       "    </tr>\n",
       "    <tr>\n",
       "      <th>395</th>\n",
       "      <td>473</td>\n",
       "      <td>Wainuiomata water reserve</td>\n",
       "      <td>Lecanoromycetes</td>\n",
       "      <td>Peltigerales</td>\n",
       "      <td>Peltigeraceae</td>\n",
       "      <td>Peltigera</td>\n",
       "      <td>polydactylon</td>\n",
       "      <td>Cyano</td>\n",
       "      <td>Foliose</td>\n",
       "      <td>Mild, sub-humid</td>\n",
       "    </tr>\n",
       "    <tr>\n",
       "      <th>396</th>\n",
       "      <td>474</td>\n",
       "      <td>Wainuiomata water reserve</td>\n",
       "      <td>Lecanoromycetes</td>\n",
       "      <td>Peltigerales</td>\n",
       "      <td>Lobariaceae</td>\n",
       "      <td>Pseudocyphellaria</td>\n",
       "      <td>dissimilis</td>\n",
       "      <td>Cyano</td>\n",
       "      <td>Foliose</td>\n",
       "      <td>Mild, sub-humid</td>\n",
       "    </tr>\n",
       "    <tr>\n",
       "      <th>397</th>\n",
       "      <td>475</td>\n",
       "      <td>Wainuiomata water reserve</td>\n",
       "      <td>Lecanoromycetes</td>\n",
       "      <td>Peltigerales</td>\n",
       "      <td>Lobariaceae</td>\n",
       "      <td>Pseudocyphellaria</td>\n",
       "      <td>dissimilis</td>\n",
       "      <td>Cyano</td>\n",
       "      <td>Foliose</td>\n",
       "      <td>Mild, sub-humid</td>\n",
       "    </tr>\n",
       "    <tr>\n",
       "      <th>398</th>\n",
       "      <td>476</td>\n",
       "      <td>Wainuiomata water reserve</td>\n",
       "      <td>Lecanoromycetes</td>\n",
       "      <td>Peltigerales</td>\n",
       "      <td>Lobariaceae</td>\n",
       "      <td>Pseudocyphellaria</td>\n",
       "      <td>dissimilis</td>\n",
       "      <td>Cyano</td>\n",
       "      <td>Foliose</td>\n",
       "      <td>Mild, sub-humid</td>\n",
       "    </tr>\n",
       "  </tbody>\n",
       "</table>\n",
       "<p>246 rows × 10 columns</p>\n",
       "</div>"
      ],
      "text/plain": [
       "     Lichen        Collection location            Class         Order  \\\n",
       "13       23                 Wellington  Lecanoromycetes  Peltigerales   \n",
       "25      102                 Wellington  Lecanoromycetes   Lecanorales   \n",
       "29      106                 Wellington  Lecanoromycetes   Lecanorales   \n",
       "32      109                 Wellington  Lecanoromycetes   Lecanorales   \n",
       "33      110                 Wellington  Lecanoromycetes   Lecanorales   \n",
       "..      ...                        ...              ...           ...   \n",
       "394     472  Wainuiomata water reserve  Lecanoromycetes   Lecanorales   \n",
       "395     473  Wainuiomata water reserve  Lecanoromycetes  Peltigerales   \n",
       "396     474  Wainuiomata water reserve  Lecanoromycetes  Peltigerales   \n",
       "397     475  Wainuiomata water reserve  Lecanoromycetes  Peltigerales   \n",
       "398     476  Wainuiomata water reserve  Lecanoromycetes  Peltigerales   \n",
       "\n",
       "              Family              Genus       Species  Photobiont     Growth  \\\n",
       "13       Lobariaceae           Yarrumia      colensoi       Green    Foliose   \n",
       "25     Collemataceae            Collema           sp.       Cyano    Foliose   \n",
       "29     Collemataceae          Leptogium  coralloideum       Cyano    Foliose   \n",
       "32     Collemataceae          Leptogium  coralloideum       Cyano    Foliose   \n",
       "33     Collemataceae            Collema           sp.       Cyano    Foliose   \n",
       "..               ...                ...           ...         ...        ...   \n",
       "394  Stereocaulaceae       Stereocaulon     ramulosum  Tripartite  Fruticose   \n",
       "395    Peltigeraceae          Peltigera  polydactylon       Cyano    Foliose   \n",
       "396      Lobariaceae  Pseudocyphellaria    dissimilis       Cyano    Foliose   \n",
       "397      Lobariaceae  Pseudocyphellaria    dissimilis       Cyano    Foliose   \n",
       "398      Lobariaceae  Pseudocyphellaria    dissimilis       Cyano    Foliose   \n",
       "\n",
       "        Macroclimate  \n",
       "13   Mild, sub-humid  \n",
       "25   Mild, sub-humid  \n",
       "29   Mild, sub-humid  \n",
       "32   Mild, sub-humid  \n",
       "33   Mild, sub-humid  \n",
       "..               ...  \n",
       "394  Mild, sub-humid  \n",
       "395  Mild, sub-humid  \n",
       "396  Mild, sub-humid  \n",
       "397  Mild, sub-humid  \n",
       "398  Mild, sub-humid  \n",
       "\n",
       "[246 rows x 10 columns]"
      ]
     },
     "metadata": {},
     "output_type": "display_data"
    }
   ],
   "source": [
    "lichen_df = pd.read_csv(\"lichen_dataset.csv\")\n",
    "lichen_df2 = lichen_df.dropna(subset=['Growth'])\n",
    "lichen_df2['Photobiont'] = lichen_df2['Photobiont'].replace('Tri', 'Tripartite')\n",
    "print(f\"Number of total lichens: {len(lichen_df)}\\nNumber of investigated lichens: {len(lichen_df2)}\")\n",
    "display(lichen_df2)"
   ]
  },
  {
   "cell_type": "code",
   "execution_count": 17,
   "metadata": {},
   "outputs": [
    {
     "data": {
      "image/png": "[encoded data removed]",
      "text/plain": [
       "<Figure size 1600x600 with 3 Axes>"
      ]
     },
     "metadata": {},
     "output_type": "display_data"
    }
   ],
   "source": [
    "sns.set_style(\"white\")\n",
    "sns.set_context(\"paper\", font_scale=1.5)\n",
    "fig, axes = plt.subplots(1, 3, figsize=(16, 6), sharey=True, gridspec_kw={'width_ratios': [1, 1, 1.5]})\n",
    "\n",
    "# ax1\n",
    "ax1 = sns.countplot(data=lichen_df2, x=\"Photobiont\", hue=\"Order\", palette=\"tab20\", ax=axes[0])\n",
    "sns.despine(ax=ax1)\n",
    "ax1.get_legend().remove()\n",
    "ax1.set_ylabel('count', weight=\"bold\")\n",
    "ax1.set_xlabel('photobiont', weight=\"bold\")\n",
    "\n",
    "# ax2\n",
    "ax2 = sns.countplot(data=lichen_df2, x=\"Growth\", hue=\"Order\", palette=\"tab20\", ax=axes[1])\n",
    "sns.despine(ax=ax2)\n",
    "ax2.get_legend().remove()\n",
    "ax2.set_ylabel('')\n",
    "ax2.set_xlabel('growth form', weight=\"bold\")\n",
    "\n",
    "# ax3\n",
    "climate_order = [\"Warm, sub-humid\", \"Mild, humid\", \"Mild, sub-humid\", \"Cool, humid\", \"Cool, sub-humid\", \"Cool, semi-arid\", \"Cold, sub-humid\", \"Cold, semi-arid\", \"Low alpine, semi-arid\"]\n",
    "ax3 = sns.countplot(data=lichen_df2, x=\"Macroclimate\", hue=\"Order\", palette=\"tab20\", order=climate_order, ax=axes[2])\n",
    "sns.move_legend(ax3, \"center right\", bbox_to_anchor=(0.8, 0.8), frameon=False, title=\"Family\", title_fontproperties={'weight':'bold'}, title_fontsize=14)\n",
    "sns.despine(ax=ax3)\n",
    "ax3.set_xticklabels(labels = ['WSH', 'MH', 'MSH', 'CH', 'CSH', 'CSA', 'CdSH', 'CdSA', 'LASA'])\n",
    "ax3.set_ylabel('')\n",
    "ax3.set_xlabel('macroclimate', weight=\"bold\")\n",
    "fig.tight_layout()\n",
    "plt.savefig(\"lichen_characteristics.svg\", format=\"svg\", bbox_inches='tight')\n",
    "plt.savefig(\"lichen_characteristics.png\", format=\"png\", bbox_inches='tight')"
   ]
  },
  {
   "attachments": {},
   "cell_type": "markdown",
   "metadata": {},
   "source": [
    "## Sankey plot of collected lichen samples\n",
    "The Sankey plot generated below was manually coloured using an SVG editor, using relationships defined on [NCBI Taxonomy](https://www.ncbi.nlm.nih.gov/taxonomy/).\n",
    "\n",
    "To prepare a Sankey diagram with plotly.go, you need to have three sorted lists where each index is a specific link:\n",
    "1. a source list - the start node of each link\n",
    "2. a target list - the end node of each link\n",
    "3. a value list - the size of each link\n",
    "\n",
    "The links in the resulting plot can be moved to better display them before being exported manually."
   ]
  },
  {
   "cell_type": "code",
   "execution_count": 18,
   "metadata": {},
   "outputs": [
    {
     "data": {
      "application/vnd.plotly.v1+json": {
       "config": {
        "plotlyServerURL": "https://plot.ly"
       },
       "data": [
        {
         "link": {
          "source": [
           64,
           64,
           0,
           0,
           0,
           0,
           0,
           0,
           1,
           1,
           1,
           2,
           2,
           2,
           2,
           2,
           2,
           2,
           2,
           2,
           2,
           3,
           4,
           5,
           6,
           7,
           7,
           7,
           7,
           7,
           7,
           8,
           8,
           8,
           9,
           9,
           9,
           9,
           9,
           9,
           9,
           9,
           10,
           10,
           11,
           11,
           12,
           13,
           13,
           13,
           14,
           15,
           16,
           16,
           16,
           17,
           18,
           19,
           19,
           20,
           21,
           22,
           23
          ],
          "target": [
           0,
           62,
           1,
           2,
           3,
           4,
           5,
           6,
           7,
           15,
           23,
           8,
           9,
           11,
           12,
           13,
           14,
           16,
           18,
           19,
           21,
           10,
           17,
           20,
           22,
           24,
           27,
           39,
           41,
           43,
           52,
           25,
           26,
           50,
           28,
           34,
           37,
           40,
           53,
           55,
           56,
           58,
           59,
           29,
           30,
           35,
           31,
           32,
           42,
           48,
           33,
           38,
           44,
           47,
           57,
           45,
           46,
           49,
           54,
           51,
           37,
           60,
           61
          ],
          "value": [
           241,
           158,
           107,
           120,
           10,
           1,
           1,
           2,
           88,
           17,
           2,
           22,
           44,
           3,
           16,
           17,
           5,
           6,
           2,
           4,
           1,
           10,
           1,
           1,
           2,
           8,
           57,
           14,
           3,
           4,
           2,
           7,
           5,
           10,
           17,
           12,
           1,
           2,
           3,
           1,
           6,
           2,
           1,
           6,
           2,
           1,
           16,
           13,
           3,
           1,
           5,
           17,
           4,
           1,
           1,
           1,
           2,
           1,
           3,
           1,
           1,
           2,
           2,
           158
          ]
         },
         "node": {
          "color": "black",
          "label": [
           "Lecanoromycetes\n241",
           "Peltigerales\n107",
           "Lecanorales\n120",
           "Teloschistales\n10",
           "Pertusariales\n1",
           "Trichotheliales\n1",
           "Gyalectales\n2",
           "Lobariaceae\n88",
           "Collemataceae\n22",
           "Parmeliaceae\n44",
           "Teloschistaceae\n10",
           "Physciaceae\n3",
           "Stereocaulaceae\n16",
           "Cladoniaceae\n17",
           "Ramalinaceae\n5",
           "Peltigeraceae\n17",
           "Sphaerophoraceae\n6",
           "Coccotremataceae\n1",
           "Icmadophilaceae\n2",
           "Pannariaceae\n4",
           "Trichotheliaceae\n1",
           "Parmeliaceae\n1",
           "Gyalectaceae\n2",
           "Nephromataceae\n2",
           "Yarrumia\n8",
           "Collema\n7",
           "Leptogium\n5",
           "Pseudocyphellaria\n58",
           "Parmotrema\n18",
           "Xanthoria\n6",
           "Physcia\n2",
           "Stereocaulon\n16",
           "Cladonia\n13",
           "Ramalina\n5",
           "Usnea\n12",
           "Heterodermia\n1",
           "Teloschistes\n4",
           "Hypogymnia\n1",
           "Peltigera\n17",
           "Sticta\n14",
           "Flavoparmelia\n2",
           "Lobaria\n3",
           "Cladia\n3",
           "Podostictina\n4",
           "Bunodophoron\n4",
           "Coccotrema\n1",
           "Siphula\n2",
           "Leifidium\n1",
           "Neophyllis\n1",
           "Pannaria/Psoroma\n1",
           "Collema/Leptogium\n10",
           "Porina\n1",
           "Crocodia\n2",
           "Menegazzia\n3",
           "Pannaria\n3",
           "Cetraria\n1",
           "Xanthoparmelia\n6",
           "Sphaerophorus\n1",
           "Notoparmelia\n2",
           "Punctelia\n1",
           "Coenogonium\n2",
           "Nephroma\n2",
           "unidentified\n156",
           "unidentified\n156",
           "lichens\n399"
          ],
          "line": {
           "color": "black",
           "width": 0.5
          },
          "pad": 15,
          "thickness": 20
         },
         "type": "sankey"
        }
       ],
       "layout": {
        "font": {
         "size": 10
        },
        "template": {
         "data": {
          "bar": [
           {
            "error_x": {
             "color": "#2a3f5f"
            },
            "error_y": {
             "color": "#2a3f5f"
            },
            "marker": {
             "line": {
              "color": "#E5ECF6",
              "width": 0.5
             },
             "pattern": {
              "fillmode": "overlay",
              "size": 10,
              "solidity": 0.2
             }
            },
            "type": "bar"
           }
          ],
          "barpolar": [
           {
            "marker": {
             "line": {
              "color": "#E5ECF6",
              "width": 0.5
             },
             "pattern": {
              "fillmode": "overlay",
              "size": 10,
              "solidity": 0.2
             }
            },
            "type": "barpolar"
           }
          ],
          "carpet": [
           {
            "aaxis": {
             "endlinecolor": "#2a3f5f",
             "gridcolor": "white",
             "linecolor": "white",
             "minorgridcolor": "white",
             "startlinecolor": "#2a3f5f"
            },
            "baxis": {
             "endlinecolor": "#2a3f5f",
             "gridcolor": "white",
             "linecolor": "white",
             "minorgridcolor": "white",
             "startlinecolor": "#2a3f5f"
            },
            "type": "carpet"
           }
          ],
          "choropleth": [
           {
            "colorbar": {
             "outlinewidth": 0,
             "ticks": ""
            },
            "type": "choropleth"
           }
          ],
          "contour": [
           {
            "colorbar": {
             "outlinewidth": 0,
             "ticks": ""
            },
            "colorscale": [
             [
              0,
              "#0d0887"
             ],
             [
              0.1111111111111111,
              "#46039f"
             ],
             [
              0.2222222222222222,
              "#7201a8"
             ],
             [
              0.3333333333333333,
              "#9c179e"
             ],
             [
              0.4444444444444444,
              "#bd3786"
             ],
             [
              0.5555555555555556,
              "#d8576b"
             ],
             [
              0.6666666666666666,
              "#ed7953"
             ],
             [
              0.7777777777777778,
              "#fb9f3a"
             ],
             [
              0.8888888888888888,
              "#fdca26"
             ],
             [
              1,
              "#f0f921"
             ]
            ],
            "type": "contour"
           }
          ],
          "contourcarpet": [
           {
            "colorbar": {
             "outlinewidth": 0,
             "ticks": ""
            },
            "type": "contourcarpet"
           }
          ],
          "heatmap": [
           {
            "colorbar": {
             "outlinewidth": 0,
             "ticks": ""
            },
            "colorscale": [
             [
              0,
              "#0d0887"
             ],
             [
              0.1111111111111111,
              "#46039f"
             ],
             [
              0.2222222222222222,
              "#7201a8"
             ],
             [
              0.3333333333333333,
              "#9c179e"
             ],
             [
              0.4444444444444444,
              "#bd3786"
             ],
             [
              0.5555555555555556,
              "#d8576b"
             ],
             [
              0.6666666666666666,
              "#ed7953"
             ],
             [
              0.7777777777777778,
              "#fb9f3a"
             ],
             [
              0.8888888888888888,
              "#fdca26"
             ],
             [
              1,
              "#f0f921"
             ]
            ],
            "type": "heatmap"
           }
          ],
          "heatmapgl": [
           {
            "colorbar": {
             "outlinewidth": 0,
             "ticks": ""
            },
            "colorscale": [
             [
              0,
              "#0d0887"
             ],
             [
              0.1111111111111111,
              "#46039f"
             ],
             [
              0.2222222222222222,
              "#7201a8"
             ],
             [
              0.3333333333333333,
              "#9c179e"
             ],
             [
              0.4444444444444444,
              "#bd3786"
             ],
             [
              0.5555555555555556,
              "#d8576b"
             ],
             [
              0.6666666666666666,
              "#ed7953"
             ],
             [
              0.7777777777777778,
              "#fb9f3a"
             ],
             [
              0.8888888888888888,
              "#fdca26"
             ],
             [
              1,
              "#f0f921"
             ]
            ],
            "type": "heatmapgl"
           }
          ],
          "histogram": [
           {
            "marker": {
             "pattern": {
              "fillmode": "overlay",
              "size": 10,
              "solidity": 0.2
             }
            },
            "type": "histogram"
           }
          ],
          "histogram2d": [
           {
            "colorbar": {
             "outlinewidth": 0,
             "ticks": ""
            },
            "colorscale": [
             [
              0,
              "#0d0887"
             ],
             [
              0.1111111111111111,
              "#46039f"
             ],
             [
              0.2222222222222222,
              "#7201a8"
             ],
             [
              0.3333333333333333,
              "#9c179e"
             ],
             [
              0.4444444444444444,
              "#bd3786"
             ],
             [
              0.5555555555555556,
              "#d8576b"
             ],
             [
              0.6666666666666666,
              "#ed7953"
             ],
             [
              0.7777777777777778,
              "#fb9f3a"
             ],
             [
              0.8888888888888888,
              "#fdca26"
             ],
             [
              1,
              "#f0f921"
             ]
            ],
            "type": "histogram2d"
           }
          ],
          "histogram2dcontour": [
           {
            "colorbar": {
             "outlinewidth": 0,
             "ticks": ""
            },
            "colorscale": [
             [
              0,
              "#0d0887"
             ],
             [
              0.1111111111111111,
              "#46039f"
             ],
             [
              0.2222222222222222,
              "#7201a8"
             ],
             [
              0.3333333333333333,
              "#9c179e"
             ],
             [
              0.4444444444444444,
              "#bd3786"
             ],
             [
              0.5555555555555556,
              "#d8576b"
             ],
             [
              0.6666666666666666,
              "#ed7953"
             ],
             [
              0.7777777777777778,
              "#fb9f3a"
             ],
             [
              0.8888888888888888,
              "#fdca26"
             ],
             [
              1,
              "#f0f921"
             ]
            ],
            "type": "histogram2dcontour"
           }
          ],
          "mesh3d": [
           {
            "colorbar": {
             "outlinewidth": 0,
             "ticks": ""
            },
            "type": "mesh3d"
           }
          ],
          "parcoords": [
           {
            "line": {
             "colorbar": {
              "outlinewidth": 0,
              "ticks": ""
             }
            },
            "type": "parcoords"
           }
          ],
          "pie": [
           {
            "automargin": true,
            "type": "pie"
           }
          ],
          "scatter": [
           {
            "fillpattern": {
             "fillmode": "overlay",
             "size": 10,
             "solidity": 0.2
            },
            "type": "scatter"
           }
          ],
          "scatter3d": [
           {
            "line": {
             "colorbar": {
              "outlinewidth": 0,
              "ticks": ""
             }
            },
            "marker": {
             "colorbar": {
              "outlinewidth": 0,
              "ticks": ""
             }
            },
            "type": "scatter3d"
           }
          ],
          "scattercarpet": [
           {
            "marker": {
             "colorbar": {
              "outlinewidth": 0,
              "ticks": ""
             }
            },
            "type": "scattercarpet"
           }
          ],
          "scattergeo": [
           {
            "marker": {
             "colorbar": {
              "outlinewidth": 0,
              "ticks": ""
             }
            },
            "type": "scattergeo"
           }
          ],
          "scattergl": [
           {
            "marker": {
             "colorbar": {
              "outlinewidth": 0,
              "ticks": ""
             }
            },
            "type": "scattergl"
           }
          ],
          "scattermapbox": [
           {
            "marker": {
             "colorbar": {
              "outlinewidth": 0,
              "ticks": ""
             }
            },
            "type": "scattermapbox"
           }
          ],
          "scatterpolar": [
           {
            "marker": {
             "colorbar": {
              "outlinewidth": 0,
              "ticks": ""
             }
            },
            "type": "scatterpolar"
           }
          ],
          "scatterpolargl": [
           {
            "marker": {
             "colorbar": {
              "outlinewidth": 0,
              "ticks": ""
             }
            },
            "type": "scatterpolargl"
           }
          ],
          "scatterternary": [
           {
            "marker": {
             "colorbar": {
              "outlinewidth": 0,
              "ticks": ""
             }
            },
            "type": "scatterternary"
           }
          ],
          "surface": [
           {
            "colorbar": {
             "outlinewidth": 0,
             "ticks": ""
            },
            "colorscale": [
             [
              0,
              "#0d0887"
             ],
             [
              0.1111111111111111,
              "#46039f"
             ],
             [
              0.2222222222222222,
              "#7201a8"
             ],
             [
              0.3333333333333333,
              "#9c179e"
             ],
             [
              0.4444444444444444,
              "#bd3786"
             ],
             [
              0.5555555555555556,
              "#d8576b"
             ],
             [
              0.6666666666666666,
              "#ed7953"
             ],
             [
              0.7777777777777778,
              "#fb9f3a"
             ],
             [
              0.8888888888888888,
              "#fdca26"
             ],
             [
              1,
              "#f0f921"
             ]
            ],
            "type": "surface"
           }
          ],
          "table": [
           {
            "cells": {
             "fill": {
              "color": "#EBF0F8"
             },
             "line": {
              "color": "white"
             }
            },
            "header": {
             "fill": {
              "color": "#C8D4E3"
             },
             "line": {
              "color": "white"
             }
            },
            "type": "table"
           }
          ]
         },
         "layout": {
          "annotationdefaults": {
           "arrowcolor": "#2a3f5f",
           "arrowhead": 0,
           "arrowwidth": 1
          },
          "autotypenumbers": "strict",
          "coloraxis": {
           "colorbar": {
            "outlinewidth": 0,
            "ticks": ""
           }
          },
          "colorscale": {
           "diverging": [
            [
             0,
             "#8e0152"
            ],
            [
             0.1,
             "#c51b7d"
            ],
            [
             0.2,
             "#de77ae"
            ],
            [
             0.3,
             "#f1b6da"
            ],
            [
             0.4,
             "#fde0ef"
            ],
            [
             0.5,
             "#f7f7f7"
            ],
            [
             0.6,
             "#e6f5d0"
            ],
            [
             0.7,
             "#b8e186"
            ],
            [
             0.8,
             "#7fbc41"
            ],
            [
             0.9,
             "#4d9221"
            ],
            [
             1,
             "#276419"
            ]
           ],
           "sequential": [
            [
             0,
             "#0d0887"
            ],
            [
             0.1111111111111111,
             "#46039f"
            ],
            [
             0.2222222222222222,
             "#7201a8"
            ],
            [
             0.3333333333333333,
             "#9c179e"
            ],
            [
             0.4444444444444444,
             "#bd3786"
            ],
            [
             0.5555555555555556,
             "#d8576b"
            ],
            [
             0.6666666666666666,
             "#ed7953"
            ],
            [
             0.7777777777777778,
             "#fb9f3a"
            ],
            [
             0.8888888888888888,
             "#fdca26"
            ],
            [
             1,
             "#f0f921"
            ]
           ],
           "sequentialminus": [
            [
             0,
             "#0d0887"
            ],
            [
             0.1111111111111111,
             "#46039f"
            ],
            [
             0.2222222222222222,
             "#7201a8"
            ],
            [
             0.3333333333333333,
             "#9c179e"
            ],
            [
             0.4444444444444444,
             "#bd3786"
            ],
            [
             0.5555555555555556,
             "#d8576b"
            ],
            [
             0.6666666666666666,
             "#ed7953"
            ],
            [
             0.7777777777777778,
             "#fb9f3a"
            ],
            [
             0.8888888888888888,
             "#fdca26"
            ],
            [
             1,
             "#f0f921"
            ]
           ]
          },
          "colorway": [
           "#636efa",
           "#EF553B",
           "#00cc96",
           "#ab63fa",
           "#FFA15A",
           "#19d3f3",
           "#FF6692",
           "#B6E880",
           "#FF97FF",
           "#FECB52"
          ],
          "font": {
           "color": "#2a3f5f"
          },
          "geo": {
           "bgcolor": "white",
           "lakecolor": "white",
           "landcolor": "#E5ECF6",
           "showlakes": true,
           "showland": true,
           "subunitcolor": "white"
          },
          "hoverlabel": {
           "align": "left"
          },
          "hovermode": "closest",
          "mapbox": {
           "style": "light"
          },
          "paper_bgcolor": "white",
          "plot_bgcolor": "#E5ECF6",
          "polar": {
           "angularaxis": {
            "gridcolor": "white",
            "linecolor": "white",
            "ticks": ""
           },
           "bgcolor": "#E5ECF6",
           "radialaxis": {
            "gridcolor": "white",
            "linecolor": "white",
            "ticks": ""
           }
          },
          "scene": {
           "xaxis": {
            "backgroundcolor": "#E5ECF6",
            "gridcolor": "white",
            "gridwidth": 2,
            "linecolor": "white",
            "showbackground": true,
            "ticks": "",
            "zerolinecolor": "white"
           },
           "yaxis": {
            "backgroundcolor": "#E5ECF6",
            "gridcolor": "white",
            "gridwidth": 2,
            "linecolor": "white",
            "showbackground": true,
            "ticks": "",
            "zerolinecolor": "white"
           },
           "zaxis": {
            "backgroundcolor": "#E5ECF6",
            "gridcolor": "white",
            "gridwidth": 2,
            "linecolor": "white",
            "showbackground": true,
            "ticks": "",
            "zerolinecolor": "white"
           }
          },
          "shapedefaults": {
           "line": {
            "color": "#2a3f5f"
           }
          },
          "ternary": {
           "aaxis": {
            "gridcolor": "white",
            "linecolor": "white",
            "ticks": ""
           },
           "baxis": {
            "gridcolor": "white",
            "linecolor": "white",
            "ticks": ""
           },
           "bgcolor": "#E5ECF6",
           "caxis": {
            "gridcolor": "white",
            "linecolor": "white",
            "ticks": ""
           }
          },
          "title": {
           "x": 0.05
          },
          "xaxis": {
           "automargin": true,
           "gridcolor": "white",
           "linecolor": "white",
           "ticks": "",
           "title": {
            "standoff": 15
           },
           "zerolinecolor": "white",
           "zerolinewidth": 2
          },
          "yaxis": {
           "automargin": true,
           "gridcolor": "white",
           "linecolor": "white",
           "ticks": "",
           "title": {
            "standoff": 15
           },
           "zerolinecolor": "white",
           "zerolinewidth": 2
          }
         }
        },
        "title": {
         "text": "Sampled lichen taxonomy"
        }
       }
      }
     },
     "metadata": {},
     "output_type": "display_data"
    }
   ],
   "source": [
    "fig = go.Figure(data=[go.Sankey(\n",
    "    node = dict(\n",
    "      pad = 15,\n",
    "      thickness = 20,\n",
    "      line = dict(color = \"black\", width = 0.5),\n",
    "      label = [\"Lecanoromycetes\\n241\", \\\n",
    "               \"Peltigerales\\n107\", \"Lecanorales\\n120\", \"Teloschistales\\n10\", \"Pertusariales\\n1\", \"Trichotheliales\\n1\", \"Gyalectales\\n2\", \\\n",
    "               \"Lobariaceae\\n88\", \"Collemataceae\\n22\", \"Parmeliaceae\\n44\", \"Teloschistaceae\\n10\", \"Physciaceae\\n3\", \"Stereocaulaceae\\n16\", \"Cladoniaceae\\n17\", \"Ramalinaceae\\n5\", \"Peltigeraceae\\n17\", \"Sphaerophoraceae\\n6\", \"Coccotremataceae\\n1\", \"Icmadophilaceae\\n2\", \"Pannariaceae\\n4\", \"Trichotheliaceae\\n1\", \"Parmeliaceae\\n1\", \"Gyalectaceae\\n2\", \"Nephromataceae\\n2\", \\\n",
    "              \"Yarrumia\\n8\", \"Collema\\n7\", \"Leptogium\\n5\", \"Pseudocyphellaria\\n58\", \"Parmotrema\\n18\", \"Xanthoria\\n6\", \"Physcia\\n2\", \"Stereocaulon\\n16\", \"Cladonia\\n13\", \"Ramalina\\n5\", \"Usnea\\n12\", \"Heterodermia\\n1\", \"Teloschistes\\n4\", \"Hypogymnia\\n1\", \"Peltigera\\n17\", \"Sticta\\n14\", \"Flavoparmelia\\n2\", \"Lobaria\\n3\", \"Cladia\\n3\", \"Podostictina\\n4\", \"Bunodophoron\\n4\", \"Coccotrema\\n1\", \"Siphula\\n2\", \"Leifidium\\n1\", \"Neophyllis\\n1\", \"Pannaria/Psoroma\\n1\", \"Collema/Leptogium\\n10\", \"Porina\\n1\", \"Crocodia\\n2\", \"Menegazzia\\n3\", \"Pannaria\\n3\", \"Cetraria\\n1\", \"Xanthoparmelia\\n6\", \"Sphaerophorus\\n1\", \"Notoparmelia\\n2\", \"Punctelia\\n1\", \"Coenogonium\\n2\", \"Nephroma\\n2\", \\\n",
    "              \"unidentified\\n156\", \"unidentified\\n156\", \"lichens\\n399\"],\n",
    "      color = \"black\"),\n",
    "    link = dict(\n",
    "      source = [64, 64, 0, 0, 0, 0, 0, 0, 1, 1, 1, 2, 2, 2, 2, 2, 2, 2, 2, 2, 2, 3, 4, 5, 6, 7, 7, 7, 7, 7, 7, 8, 8, 8, 9, 9, 9, 9, 9, 9, 9, 9, 10, 10, 11, 11, 12, 13, 13, 13, 14, 15, 16, 16, 16, 17, 18, 19, 19, 20, 21, 22, 23],\n",
    "      target = [0, 62, 1, 2, 3, 4, 5, 6, 7, 15, 23, 8, 9, 11, 12, 13, 14, 16, 18, 19, 21, 10, 17, 20, 22, 24, 27, 39, 41, 43, 52, 25, 26, 50, 28, 34, 37, 40, 53, 55, 56, 58, 59, 29, 30, 35, 31, 32, 42, 48, 33, 38, 44, 47, 57, 45, 46, 49, 54, 51, 37, 60, 61],\n",
    "      value = [241, 158, 107,120,10,1,1,2,88,17,2,22,44,3,16,17,5,6,2,4,1,10,1,1,2,8,57,14,3,4,2,7,5,10,17,12,1,2,3,1,6,2,1,6,2,1,16,13,3,1,5,17,4,1,1,1,2,1,3,1,1,2,2, 158])\n",
    "    )])\n",
    "\n",
    "fig.update_layout(title_text=\"Sampled lichen taxonomy\", font_size=10)\n",
    "fig.show()\n",
    "fig.write_image(\"lichen_taxonomy_sankey.svg\")"
   ]
  },
  {
   "cell_type": "code",
   "execution_count": 3,
   "metadata": {},
   "outputs": [
    {
     "data": {
      "text/html": [
       "<div>\n",
       "<style scoped>\n",
       "    .dataframe tbody tr th:only-of-type {\n",
       "        vertical-align: middle;\n",
       "    }\n",
       "\n",
       "    .dataframe tbody tr th {\n",
       "        vertical-align: top;\n",
       "    }\n",
       "\n",
       "    .dataframe thead th {\n",
       "        text-align: right;\n",
       "    }\n",
       "</style>\n",
       "<table border=\"1\" class=\"dataframe\">\n",
       "  <thead>\n",
       "    <tr style=\"text-align: right;\">\n",
       "      <th></th>\n",
       "      <th>Assembly</th>\n",
       "      <th>estimated_coverage</th>\n",
       "      <th># contigs (&gt;= 0 bp)</th>\n",
       "      <th># contigs (&gt;= 1000 bp)</th>\n",
       "      <th># contigs (&gt;= 5000 bp)</th>\n",
       "      <th># contigs (&gt;= 10000 bp)</th>\n",
       "      <th># contigs (&gt;= 25000 bp)</th>\n",
       "      <th># contigs (&gt;= 50000 bp)</th>\n",
       "      <th>Total length (&gt;= 0 bp)</th>\n",
       "      <th>Total length (&gt;= 1000 bp)</th>\n",
       "      <th>...</th>\n",
       "      <th>Host_ID</th>\n",
       "      <th>Host_location</th>\n",
       "      <th>Host_Class</th>\n",
       "      <th>Host_Order</th>\n",
       "      <th>Host_Family</th>\n",
       "      <th>Host_Genus</th>\n",
       "      <th>Host_Species</th>\n",
       "      <th>Photobiont</th>\n",
       "      <th>Growth_form</th>\n",
       "      <th>Macroclimate</th>\n",
       "    </tr>\n",
       "  </thead>\n",
       "  <tbody>\n",
       "    <tr>\n",
       "      <th>0</th>\n",
       "      <td>48</td>\n",
       "      <td>19.85</td>\n",
       "      <td>18650.0</td>\n",
       "      <td>7139.0</td>\n",
       "      <td>3268.0</td>\n",
       "      <td>1301.0</td>\n",
       "      <td>80.0</td>\n",
       "      <td>1.0</td>\n",
       "      <td>46702950.0</td>\n",
       "      <td>44181167.0</td>\n",
       "      <td>...</td>\n",
       "      <td>436</td>\n",
       "      <td>Kiwi burn Southland</td>\n",
       "      <td>Lecanoromycetes</td>\n",
       "      <td>Peltigerales</td>\n",
       "      <td>Lobariaceae</td>\n",
       "      <td>Crocodia</td>\n",
       "      <td>rubella</td>\n",
       "      <td>Tripartite</td>\n",
       "      <td>Foliose</td>\n",
       "      <td>Cool, sub-humid</td>\n",
       "    </tr>\n",
       "    <tr>\n",
       "      <th>1</th>\n",
       "      <td>127</td>\n",
       "      <td>2.02</td>\n",
       "      <td>8205.0</td>\n",
       "      <td>6344.0</td>\n",
       "      <td>2252.0</td>\n",
       "      <td>667.0</td>\n",
       "      <td>12.0</td>\n",
       "      <td>0.0</td>\n",
       "      <td>32307499.0</td>\n",
       "      <td>31293355.0</td>\n",
       "      <td>...</td>\n",
       "      <td>381</td>\n",
       "      <td>Wharariki Beach</td>\n",
       "      <td>Lecanoromycetes</td>\n",
       "      <td>Lecanorales</td>\n",
       "      <td>Parmeliaceae</td>\n",
       "      <td>Parmotrema</td>\n",
       "      <td>austrocetratum</td>\n",
       "      <td>Green</td>\n",
       "      <td>Foliose</td>\n",
       "      <td>Mild, humid</td>\n",
       "    </tr>\n",
       "    <tr>\n",
       "      <th>2</th>\n",
       "      <td>88</td>\n",
       "      <td>3.26</td>\n",
       "      <td>21619.0</td>\n",
       "      <td>13914.0</td>\n",
       "      <td>2293.0</td>\n",
       "      <td>269.0</td>\n",
       "      <td>1.0</td>\n",
       "      <td>0.0</td>\n",
       "      <td>49048021.0</td>\n",
       "      <td>44617122.0</td>\n",
       "      <td>...</td>\n",
       "      <td>447</td>\n",
       "      <td>Knight's bush</td>\n",
       "      <td>Lecanoromycetes</td>\n",
       "      <td>Lecanorales</td>\n",
       "      <td>Parmeliaceae</td>\n",
       "      <td>Menegazzia</td>\n",
       "      <td>neozelandica</td>\n",
       "      <td>Green</td>\n",
       "      <td>Foliose</td>\n",
       "      <td>Cold, sub-humid</td>\n",
       "    </tr>\n",
       "    <tr>\n",
       "      <th>3</th>\n",
       "      <td>41</td>\n",
       "      <td>16.48</td>\n",
       "      <td>7669.0</td>\n",
       "      <td>5107.0</td>\n",
       "      <td>2779.0</td>\n",
       "      <td>1355.0</td>\n",
       "      <td>176.0</td>\n",
       "      <td>12.0</td>\n",
       "      <td>41008469.0</td>\n",
       "      <td>40123702.0</td>\n",
       "      <td>...</td>\n",
       "      <td>435</td>\n",
       "      <td>Lewis Pass</td>\n",
       "      <td>Lecanoromycetes</td>\n",
       "      <td>Lecanorales</td>\n",
       "      <td>Sphaerophoraceae</td>\n",
       "      <td>Sphaerophorus</td>\n",
       "      <td>stereocauloides</td>\n",
       "      <td>Green</td>\n",
       "      <td>Fruticose</td>\n",
       "      <td>Cool, humid</td>\n",
       "    </tr>\n",
       "    <tr>\n",
       "      <th>4</th>\n",
       "      <td>93</td>\n",
       "      <td>8.18</td>\n",
       "      <td>10018.0</td>\n",
       "      <td>6922.0</td>\n",
       "      <td>2873.0</td>\n",
       "      <td>1001.0</td>\n",
       "      <td>39.0</td>\n",
       "      <td>3.0</td>\n",
       "      <td>40324782.0</td>\n",
       "      <td>39050212.0</td>\n",
       "      <td>...</td>\n",
       "      <td>447</td>\n",
       "      <td>Knight's bush</td>\n",
       "      <td>Lecanoromycetes</td>\n",
       "      <td>Lecanorales</td>\n",
       "      <td>Parmeliaceae</td>\n",
       "      <td>Menegazzia</td>\n",
       "      <td>neozelandica</td>\n",
       "      <td>Green</td>\n",
       "      <td>Foliose</td>\n",
       "      <td>Cold, sub-humid</td>\n",
       "    </tr>\n",
       "    <tr>\n",
       "      <th>...</th>\n",
       "      <td>...</td>\n",
       "      <td>...</td>\n",
       "      <td>...</td>\n",
       "      <td>...</td>\n",
       "      <td>...</td>\n",
       "      <td>...</td>\n",
       "      <td>...</td>\n",
       "      <td>...</td>\n",
       "      <td>...</td>\n",
       "      <td>...</td>\n",
       "      <td>...</td>\n",
       "      <td>...</td>\n",
       "      <td>...</td>\n",
       "      <td>...</td>\n",
       "      <td>...</td>\n",
       "      <td>...</td>\n",
       "      <td>...</td>\n",
       "      <td>...</td>\n",
       "      <td>...</td>\n",
       "      <td>...</td>\n",
       "      <td>...</td>\n",
       "    </tr>\n",
       "    <tr>\n",
       "      <th>375</th>\n",
       "      <td>332</td>\n",
       "      <td>99.32</td>\n",
       "      <td>NaN</td>\n",
       "      <td>NaN</td>\n",
       "      <td>NaN</td>\n",
       "      <td>NaN</td>\n",
       "      <td>NaN</td>\n",
       "      <td>NaN</td>\n",
       "      <td>NaN</td>\n",
       "      <td>NaN</td>\n",
       "      <td>...</td>\n",
       "      <td>380</td>\n",
       "      <td>Wharariki Beach</td>\n",
       "      <td>Lecanoromycetes</td>\n",
       "      <td>Trichotheliales</td>\n",
       "      <td>Trichotheliaceae</td>\n",
       "      <td>Porina</td>\n",
       "      <td>exocha</td>\n",
       "      <td>Green</td>\n",
       "      <td>Crustose</td>\n",
       "      <td>Mild, humid</td>\n",
       "    </tr>\n",
       "    <tr>\n",
       "      <th>376</th>\n",
       "      <td>352</td>\n",
       "      <td>0.11</td>\n",
       "      <td>NaN</td>\n",
       "      <td>NaN</td>\n",
       "      <td>NaN</td>\n",
       "      <td>NaN</td>\n",
       "      <td>NaN</td>\n",
       "      <td>NaN</td>\n",
       "      <td>NaN</td>\n",
       "      <td>NaN</td>\n",
       "      <td>...</td>\n",
       "      <td>403</td>\n",
       "      <td>Nichols Creek, Dunedin</td>\n",
       "      <td>Lecanoromycetes</td>\n",
       "      <td>Peltigerales</td>\n",
       "      <td>Lobariaceae</td>\n",
       "      <td>Pseudocyphellaria</td>\n",
       "      <td>multifida</td>\n",
       "      <td>Tripartite</td>\n",
       "      <td>Foliose</td>\n",
       "      <td>Cool, semi-arid</td>\n",
       "    </tr>\n",
       "    <tr>\n",
       "      <th>377</th>\n",
       "      <td>356</td>\n",
       "      <td>0.08</td>\n",
       "      <td>NaN</td>\n",
       "      <td>NaN</td>\n",
       "      <td>NaN</td>\n",
       "      <td>NaN</td>\n",
       "      <td>NaN</td>\n",
       "      <td>NaN</td>\n",
       "      <td>NaN</td>\n",
       "      <td>NaN</td>\n",
       "      <td>...</td>\n",
       "      <td>404</td>\n",
       "      <td>Knight's bush</td>\n",
       "      <td>Lecanoromycetes</td>\n",
       "      <td>Peltigerales</td>\n",
       "      <td>Lobariaceae</td>\n",
       "      <td>Yarrumia</td>\n",
       "      <td>colensoi</td>\n",
       "      <td>Tripartite</td>\n",
       "      <td>Foliose</td>\n",
       "      <td>Cold, sub-humid</td>\n",
       "    </tr>\n",
       "    <tr>\n",
       "      <th>378</th>\n",
       "      <td>360</td>\n",
       "      <td>0.18</td>\n",
       "      <td>NaN</td>\n",
       "      <td>NaN</td>\n",
       "      <td>NaN</td>\n",
       "      <td>NaN</td>\n",
       "      <td>NaN</td>\n",
       "      <td>NaN</td>\n",
       "      <td>NaN</td>\n",
       "      <td>NaN</td>\n",
       "      <td>...</td>\n",
       "      <td>404</td>\n",
       "      <td>Knight's bush</td>\n",
       "      <td>Lecanoromycetes</td>\n",
       "      <td>Peltigerales</td>\n",
       "      <td>Lobariaceae</td>\n",
       "      <td>Yarrumia</td>\n",
       "      <td>colensoi</td>\n",
       "      <td>Tripartite</td>\n",
       "      <td>Foliose</td>\n",
       "      <td>Cold, sub-humid</td>\n",
       "    </tr>\n",
       "    <tr>\n",
       "      <th>379</th>\n",
       "      <td>374</td>\n",
       "      <td>0.07</td>\n",
       "      <td>NaN</td>\n",
       "      <td>NaN</td>\n",
       "      <td>NaN</td>\n",
       "      <td>NaN</td>\n",
       "      <td>NaN</td>\n",
       "      <td>NaN</td>\n",
       "      <td>NaN</td>\n",
       "      <td>NaN</td>\n",
       "      <td>...</td>\n",
       "      <td>466</td>\n",
       "      <td>Wainuiomata water reserve</td>\n",
       "      <td>Lecanoromycetes</td>\n",
       "      <td>Lecanorales</td>\n",
       "      <td>Stereocaulaceae</td>\n",
       "      <td>Stereocaulon</td>\n",
       "      <td>ramulosum</td>\n",
       "      <td>Tripartite</td>\n",
       "      <td>Fruticose</td>\n",
       "      <td>Mild, sub-humid</td>\n",
       "    </tr>\n",
       "  </tbody>\n",
       "</table>\n",
       "<p>380 rows × 71 columns</p>\n",
       "</div>"
      ],
      "text/plain": [
       "     Assembly  estimated_coverage  # contigs (>= 0 bp)  \\\n",
       "0          48               19.85              18650.0   \n",
       "1         127                2.02               8205.0   \n",
       "2          88                3.26              21619.0   \n",
       "3          41               16.48               7669.0   \n",
       "4          93                8.18              10018.0   \n",
       "..        ...                 ...                  ...   \n",
       "375       332               99.32                  NaN   \n",
       "376       352                0.11                  NaN   \n",
       "377       356                0.08                  NaN   \n",
       "378       360                0.18                  NaN   \n",
       "379       374                0.07                  NaN   \n",
       "\n",
       "     # contigs (>= 1000 bp)  # contigs (>= 5000 bp)  # contigs (>= 10000 bp)  \\\n",
       "0                    7139.0                  3268.0                   1301.0   \n",
       "1                    6344.0                  2252.0                    667.0   \n",
       "2                   13914.0                  2293.0                    269.0   \n",
       "3                    5107.0                  2779.0                   1355.0   \n",
       "4                    6922.0                  2873.0                   1001.0   \n",
       "..                      ...                     ...                      ...   \n",
       "375                     NaN                     NaN                      NaN   \n",
       "376                     NaN                     NaN                      NaN   \n",
       "377                     NaN                     NaN                      NaN   \n",
       "378                     NaN                     NaN                      NaN   \n",
       "379                     NaN                     NaN                      NaN   \n",
       "\n",
       "     # contigs (>= 25000 bp)  # contigs (>= 50000 bp)  Total length (>= 0 bp)  \\\n",
       "0                       80.0                      1.0              46702950.0   \n",
       "1                       12.0                      0.0              32307499.0   \n",
       "2                        1.0                      0.0              49048021.0   \n",
       "3                      176.0                     12.0              41008469.0   \n",
       "4                       39.0                      3.0              40324782.0   \n",
       "..                       ...                      ...                     ...   \n",
       "375                      NaN                      NaN                     NaN   \n",
       "376                      NaN                      NaN                     NaN   \n",
       "377                      NaN                      NaN                     NaN   \n",
       "378                      NaN                      NaN                     NaN   \n",
       "379                      NaN                      NaN                     NaN   \n",
       "\n",
       "     Total length (>= 1000 bp)  ...  Host_ID              Host_location  \\\n",
       "0                   44181167.0  ...      436        Kiwi burn Southland   \n",
       "1                   31293355.0  ...      381            Wharariki Beach   \n",
       "2                   44617122.0  ...      447              Knight's bush   \n",
       "3                   40123702.0  ...      435                 Lewis Pass   \n",
       "4                   39050212.0  ...      447              Knight's bush   \n",
       "..                         ...  ...      ...                        ...   \n",
       "375                        NaN  ...      380            Wharariki Beach   \n",
       "376                        NaN  ...      403     Nichols Creek, Dunedin   \n",
       "377                        NaN  ...      404              Knight's bush   \n",
       "378                        NaN  ...      404              Knight's bush   \n",
       "379                        NaN  ...      466  Wainuiomata water reserve   \n",
       "\n",
       "          Host_Class       Host_Order       Host_Family         Host_Genus  \\\n",
       "0    Lecanoromycetes     Peltigerales       Lobariaceae           Crocodia   \n",
       "1    Lecanoromycetes      Lecanorales      Parmeliaceae         Parmotrema   \n",
       "2    Lecanoromycetes      Lecanorales      Parmeliaceae         Menegazzia   \n",
       "3    Lecanoromycetes      Lecanorales  Sphaerophoraceae      Sphaerophorus   \n",
       "4    Lecanoromycetes      Lecanorales      Parmeliaceae         Menegazzia   \n",
       "..               ...              ...               ...                ...   \n",
       "375  Lecanoromycetes  Trichotheliales  Trichotheliaceae             Porina   \n",
       "376  Lecanoromycetes     Peltigerales       Lobariaceae  Pseudocyphellaria   \n",
       "377  Lecanoromycetes     Peltigerales       Lobariaceae           Yarrumia   \n",
       "378  Lecanoromycetes     Peltigerales       Lobariaceae           Yarrumia   \n",
       "379  Lecanoromycetes      Lecanorales   Stereocaulaceae       Stereocaulon   \n",
       "\n",
       "        Host_Species  Photobiont  Growth_form     Macroclimate  \n",
       "0            rubella  Tripartite      Foliose  Cool, sub-humid  \n",
       "1     austrocetratum       Green      Foliose      Mild, humid  \n",
       "2       neozelandica       Green      Foliose  Cold, sub-humid  \n",
       "3    stereocauloides       Green    Fruticose      Cool, humid  \n",
       "4       neozelandica       Green      Foliose  Cold, sub-humid  \n",
       "..               ...         ...          ...              ...  \n",
       "375           exocha       Green     Crustose      Mild, humid  \n",
       "376        multifida  Tripartite      Foliose  Cool, semi-arid  \n",
       "377         colensoi  Tripartite      Foliose  Cold, sub-humid  \n",
       "378         colensoi  Tripartite      Foliose  Cold, sub-humid  \n",
       "379        ramulosum  Tripartite    Fruticose  Mild, sub-humid  \n",
       "\n",
       "[380 rows x 71 columns]"
      ]
     },
     "execution_count": 3,
     "metadata": {},
     "output_type": "execute_result"
    }
   ],
   "source": [
    "df"
   ]
  },
  {
   "attachments": {},
   "cell_type": "markdown",
   "metadata": {},
   "source": [
    "Plot distribution of estimated coverage"
   ]
  },
  {
   "cell_type": "code",
   "execution_count": 44,
   "metadata": {},
   "outputs": [
    {
     "data": {
      "image/png": "[encoded data removed]",
      "text/plain": [
       "<Figure size 1200x600 with 2 Axes>"
      ]
     },
     "metadata": {},
     "output_type": "display_data"
    }
   ],
   "source": [
    "df.loc[(df['Assembly'] <= 147), 'pooled_library'] = '1'\n",
    "df.loc[(df['Assembly'] > 147), 'pooled_library'] = '2'\n",
    "df[\"actual_coverage\"] = (df[\"# left\"]*300)/44200000\n",
    "\n",
    "est_1_avg = df[df[\"pooled_library\"] == \"1\"][\"estimated_coverage\"].mean()\n",
    "est_2_avg = df[df[\"pooled_library\"] == \"2\"][\"estimated_coverage\"].mean()\n",
    "act_1_avg = df[df[\"pooled_library\"] == \"1\"][\"actual_coverage\"].mean()\n",
    "act_2_avg = df[df[\"pooled_library\"] == \"2\"][\"actual_coverage\"].mean()\n",
    "\n",
    "fig, axes = plt.subplots(1, 2, figsize=(12, 6), sharey=True, layout=\"constrained\")\n",
    "sns.kdeplot(data=df, x=\"estimated_coverage\", ax=axes[0], hue=\"pooled_library\")\n",
    "sns.rugplot(data=df, x=\"estimated_coverage\", ax=axes[0], hue=\"pooled_library\")\n",
    "sns.kdeplot(data=df, x=\"actual_coverage\", ax=axes[1], hue=\"pooled_library\")\n",
    "sns.rugplot(data=df, x=\"actual_coverage\", ax=axes[1], hue=\"pooled_library\")\n",
    "axes[0].legend([\"1-147\", \"148-380\"], title = 'Pooled library', loc = 'best', frameon = False, title_fontproperties={'weight':\"bold\"}, markerscale=4)\n",
    "axes[1].legend([\"1-147\", \"148-380\"], title = 'Pooled library', loc = 'best', frameon = False, title_fontproperties={'weight':\"bold\"}, markerscale=4)\n",
    "axes[0].set_xlim(-20, 180)\n",
    "axes[1].set_xlim(-20, 180)\n",
    "axes[0].set_ylabel(\"Density\", fontproperties={'weight':\"bold\"})\n",
    "axes[0].set_xlabel(\"Estimated coverage\", fontproperties={'weight':\"bold\"})\n",
    "axes[1].set_xlabel(\"Actual coverage\", fontproperties={'weight':\"bold\"})\n",
    "axes[0].text(x=0.5, y=0.95, s=f\"Mean coverage\\npooled library 1: {round(est_1_avg, 2)}\\npooled library 2: {round(est_2_avg, 2)}\", ha='center', va='top', transform=axes[0].transAxes)\n",
    "axes[1].text(x=0.5, y=0.95, s=f\"Mean coverage\\npooled library 1: {round(act_1_avg, 2)}\\npooled library 2: {round(act_2_avg, 2)}\", ha='center', va='top', transform=axes[1].transAxes)\n",
    "plt.savefig(\"read_coverages.svg\", format=\"svg\", bbox_inches='tight')"
   ]
  }
 ],
 "metadata": {
  "kernelspec": {
   "display_name": "plotting",
   "language": "python",
   "name": "python3"
  },
  "language_info": {
   "codemirror_mode": {
    "name": "ipython",
    "version": 3
   },
   "file_extension": ".py",
   "mimetype": "text/x-python",
   "name": "python",
   "nbconvert_exporter": "python",
   "pygments_lexer": "ipython3",
   "version": "3.9.16"
  },
  "orig_nbformat": 4
 },
 "nbformat": 4,
 "nbformat_minor": 2
}
